{
 "cells": [
  {
   "cell_type": "code",
   "execution_count": 1,
   "id": "d5ced764",
   "metadata": {
    "_cell_guid": "b1076dfc-b9ad-4769-8c92-a6c4dae69d19",
    "_uuid": "8f2839f25d086af736a60e9eeb907d3b93b6e0e5",
    "execution": {
     "iopub.execute_input": "2023-04-28T20:38:47.416337Z",
     "iopub.status.busy": "2023-04-28T20:38:47.415184Z",
     "iopub.status.idle": "2023-04-28T20:39:05.826770Z",
     "shell.execute_reply": "2023-04-28T20:39:05.824099Z"
    },
    "papermill": {
     "duration": 18.425731,
     "end_time": "2023-04-28T20:39:05.830415",
     "exception": false,
     "start_time": "2023-04-28T20:38:47.404684",
     "status": "completed"
    },
    "tags": []
   },
   "outputs": [],
   "source": [
    "%%capture\n",
    "\n",
    "!pip install gensim==4.0.1"
   ]
  },
  {
   "cell_type": "code",
   "execution_count": 2,
   "id": "3c4916ed",
   "metadata": {
    "execution": {
     "iopub.execute_input": "2023-04-28T20:39:05.846711Z",
     "iopub.status.busy": "2023-04-28T20:39:05.846137Z",
     "iopub.status.idle": "2023-04-28T20:39:07.921341Z",
     "shell.execute_reply": "2023-04-28T20:39:07.920137Z"
    },
    "papermill": {
     "duration": 2.087712,
     "end_time": "2023-04-28T20:39:07.924754",
     "exception": false,
     "start_time": "2023-04-28T20:39:05.837042",
     "status": "completed"
    },
    "tags": []
   },
   "outputs": [
    {
     "name": "stdout",
     "output_type": "stream",
     "text": [
      "CPU times: user 939 ms, sys: 268 ms, total: 1.21 s\n",
      "Wall time: 2.07 s\n"
     ]
    }
   ],
   "source": [
    "%%time\n",
    "\n",
    "# Importing necessary libraries\n",
    "\n",
    "import gensim.downloader\n",
    "from gensim.models import Word2Vec\n",
    "from gensim.parsing.preprocessing import preprocess_string\n",
    "import json\n",
    "from matplotlib import pyplot as plt\n",
    "import numpy as np\n",
    "import pandas as pd\n",
    "pd.set_option('display.max_colwidth', None)\n",
    "from sklearn.feature_extraction.text import TfidfVectorizer\n",
    "from sklearn.neighbors import NearestNeighbors"
   ]
  },
  {
   "cell_type": "code",
   "execution_count": 3,
   "id": "62076c7e",
   "metadata": {
    "execution": {
     "iopub.execute_input": "2023-04-28T20:39:07.942323Z",
     "iopub.status.busy": "2023-04-28T20:39:07.941427Z",
     "iopub.status.idle": "2023-04-28T20:39:15.476182Z",
     "shell.execute_reply": "2023-04-28T20:39:15.474808Z"
    },
    "papermill": {
     "duration": 7.548046,
     "end_time": "2023-04-28T20:39:15.479331",
     "exception": false,
     "start_time": "2023-04-28T20:39:07.931285",
     "status": "completed"
    },
    "tags": []
   },
   "outputs": [
    {
     "name": "stdout",
     "output_type": "stream",
     "text": [
      "CPU times: user 6.26 s, sys: 338 ms, total: 6.59 s\n",
      "Wall time: 7.49 s\n"
     ]
    },
    {
     "data": {
      "text/html": [
       "<div>\n",
       "<style scoped>\n",
       "    .dataframe tbody tr th:only-of-type {\n",
       "        vertical-align: middle;\n",
       "    }\n",
       "\n",
       "    .dataframe tbody tr th {\n",
       "        vertical-align: top;\n",
       "    }\n",
       "\n",
       "    .dataframe thead th {\n",
       "        text-align: right;\n",
       "    }\n",
       "</style>\n",
       "<table border=\"1\" class=\"dataframe\">\n",
       "  <thead>\n",
       "    <tr style=\"text-align: right;\">\n",
       "      <th></th>\n",
       "      <th>id</th>\n",
       "      <th>question</th>\n",
       "      <th>context</th>\n",
       "      <th>answers</th>\n",
       "      <th>context_id</th>\n",
       "    </tr>\n",
       "  </thead>\n",
       "  <tbody>\n",
       "    <tr>\n",
       "      <th>0</th>\n",
       "      <td>5733be284776f41900661182</td>\n",
       "      <td>To whom did the Virgin Mary allegedly appear in 1858 in Lourdes France?</td>\n",
       "      <td>Architecturally, the school has a Catholic character. Atop the Main Building's gold dome is a golden statue of the Virgin Mary. Immediately in front of the Main Building and facing it, is a copper statue of Christ with arms upraised with the legend \"Venite Ad Me Omnes\". Next to the Main Building is the Basilica of the Sacred Heart. Immediately behind the basilica is the Grotto, a Marian place of prayer and reflection. It is a replica of the grotto at Lourdes, France where the Virgin Mary reputedly appeared to Saint Bernadette Soubirous in 1858. At the end of the main drive (and in a direct line that connects through 3 statues and the Gold Dome), is a simple, modern stone statue of Mary.</td>\n",
       "      <td>[{'answer_start': 515, 'text': 'Saint Bernadette Soubirous'}]</td>\n",
       "      <td>0</td>\n",
       "    </tr>\n",
       "    <tr>\n",
       "      <th>1</th>\n",
       "      <td>5733be284776f4190066117f</td>\n",
       "      <td>What is in front of the Notre Dame Main Building?</td>\n",
       "      <td>Architecturally, the school has a Catholic character. Atop the Main Building's gold dome is a golden statue of the Virgin Mary. Immediately in front of the Main Building and facing it, is a copper statue of Christ with arms upraised with the legend \"Venite Ad Me Omnes\". Next to the Main Building is the Basilica of the Sacred Heart. Immediately behind the basilica is the Grotto, a Marian place of prayer and reflection. It is a replica of the grotto at Lourdes, France where the Virgin Mary reputedly appeared to Saint Bernadette Soubirous in 1858. At the end of the main drive (and in a direct line that connects through 3 statues and the Gold Dome), is a simple, modern stone statue of Mary.</td>\n",
       "      <td>[{'answer_start': 188, 'text': 'a copper statue of Christ'}]</td>\n",
       "      <td>0</td>\n",
       "    </tr>\n",
       "    <tr>\n",
       "      <th>2</th>\n",
       "      <td>5733be284776f41900661180</td>\n",
       "      <td>The Basilica of the Sacred heart at Notre Dame is beside to which structure?</td>\n",
       "      <td>Architecturally, the school has a Catholic character. Atop the Main Building's gold dome is a golden statue of the Virgin Mary. Immediately in front of the Main Building and facing it, is a copper statue of Christ with arms upraised with the legend \"Venite Ad Me Omnes\". Next to the Main Building is the Basilica of the Sacred Heart. Immediately behind the basilica is the Grotto, a Marian place of prayer and reflection. It is a replica of the grotto at Lourdes, France where the Virgin Mary reputedly appeared to Saint Bernadette Soubirous in 1858. At the end of the main drive (and in a direct line that connects through 3 statues and the Gold Dome), is a simple, modern stone statue of Mary.</td>\n",
       "      <td>[{'answer_start': 279, 'text': 'the Main Building'}]</td>\n",
       "      <td>0</td>\n",
       "    </tr>\n",
       "    <tr>\n",
       "      <th>3</th>\n",
       "      <td>5733be284776f41900661181</td>\n",
       "      <td>What is the Grotto at Notre Dame?</td>\n",
       "      <td>Architecturally, the school has a Catholic character. Atop the Main Building's gold dome is a golden statue of the Virgin Mary. Immediately in front of the Main Building and facing it, is a copper statue of Christ with arms upraised with the legend \"Venite Ad Me Omnes\". Next to the Main Building is the Basilica of the Sacred Heart. Immediately behind the basilica is the Grotto, a Marian place of prayer and reflection. It is a replica of the grotto at Lourdes, France where the Virgin Mary reputedly appeared to Saint Bernadette Soubirous in 1858. At the end of the main drive (and in a direct line that connects through 3 statues and the Gold Dome), is a simple, modern stone statue of Mary.</td>\n",
       "      <td>[{'answer_start': 381, 'text': 'a Marian place of prayer and reflection'}]</td>\n",
       "      <td>0</td>\n",
       "    </tr>\n",
       "    <tr>\n",
       "      <th>4</th>\n",
       "      <td>5733be284776f4190066117e</td>\n",
       "      <td>What sits on top of the Main Building at Notre Dame?</td>\n",
       "      <td>Architecturally, the school has a Catholic character. Atop the Main Building's gold dome is a golden statue of the Virgin Mary. Immediately in front of the Main Building and facing it, is a copper statue of Christ with arms upraised with the legend \"Venite Ad Me Omnes\". Next to the Main Building is the Basilica of the Sacred Heart. Immediately behind the basilica is the Grotto, a Marian place of prayer and reflection. It is a replica of the grotto at Lourdes, France where the Virgin Mary reputedly appeared to Saint Bernadette Soubirous in 1858. At the end of the main drive (and in a direct line that connects through 3 statues and the Gold Dome), is a simple, modern stone statue of Mary.</td>\n",
       "      <td>[{'answer_start': 92, 'text': 'a golden statue of the Virgin Mary'}]</td>\n",
       "      <td>0</td>\n",
       "    </tr>\n",
       "    <tr>\n",
       "      <th>...</th>\n",
       "      <td>...</td>\n",
       "      <td>...</td>\n",
       "      <td>...</td>\n",
       "      <td>...</td>\n",
       "      <td>...</td>\n",
       "    </tr>\n",
       "    <tr>\n",
       "      <th>87594</th>\n",
       "      <td>5735d259012e2f140011a09d</td>\n",
       "      <td>In what US state did Kathmandu first establish an international relationship?</td>\n",
       "      <td>Kathmandu Metropolitan City (KMC), in order to promote international relations has established an International Relations Secretariat (IRC). KMC's first international relationship was established in 1975 with the city of Eugene, Oregon, United States. This activity has been further enhanced by establishing formal relationships with 8 other cities: Motsumoto City of Japan, Rochester of the USA, Yangon (formerly Rangoon) of Myanmar, Xi'an of the People's Republic of China, Minsk of Belarus, and Pyongyang of the Democratic Republic of Korea. KMC's constant endeavor is to enhance its interaction with SAARC countries, other International agencies and many other major cities of the world to achieve better urban management and developmental programs for Kathmandu.</td>\n",
       "      <td>[{'answer_start': 229, 'text': 'Oregon'}]</td>\n",
       "      <td>18890</td>\n",
       "    </tr>\n",
       "    <tr>\n",
       "      <th>87595</th>\n",
       "      <td>5735d259012e2f140011a09e</td>\n",
       "      <td>What was Yangon previously known as?</td>\n",
       "      <td>Kathmandu Metropolitan City (KMC), in order to promote international relations has established an International Relations Secretariat (IRC). KMC's first international relationship was established in 1975 with the city of Eugene, Oregon, United States. This activity has been further enhanced by establishing formal relationships with 8 other cities: Motsumoto City of Japan, Rochester of the USA, Yangon (formerly Rangoon) of Myanmar, Xi'an of the People's Republic of China, Minsk of Belarus, and Pyongyang of the Democratic Republic of Korea. KMC's constant endeavor is to enhance its interaction with SAARC countries, other International agencies and many other major cities of the world to achieve better urban management and developmental programs for Kathmandu.</td>\n",
       "      <td>[{'answer_start': 414, 'text': 'Rangoon'}]</td>\n",
       "      <td>18890</td>\n",
       "    </tr>\n",
       "    <tr>\n",
       "      <th>87596</th>\n",
       "      <td>5735d259012e2f140011a09f</td>\n",
       "      <td>With what Belorussian city does Kathmandu have a relationship?</td>\n",
       "      <td>Kathmandu Metropolitan City (KMC), in order to promote international relations has established an International Relations Secretariat (IRC). KMC's first international relationship was established in 1975 with the city of Eugene, Oregon, United States. This activity has been further enhanced by establishing formal relationships with 8 other cities: Motsumoto City of Japan, Rochester of the USA, Yangon (formerly Rangoon) of Myanmar, Xi'an of the People's Republic of China, Minsk of Belarus, and Pyongyang of the Democratic Republic of Korea. KMC's constant endeavor is to enhance its interaction with SAARC countries, other International agencies and many other major cities of the world to achieve better urban management and developmental programs for Kathmandu.</td>\n",
       "      <td>[{'answer_start': 476, 'text': 'Minsk'}]</td>\n",
       "      <td>18890</td>\n",
       "    </tr>\n",
       "    <tr>\n",
       "      <th>87597</th>\n",
       "      <td>5735d259012e2f140011a0a0</td>\n",
       "      <td>In what year did Kathmandu create its initial international relationship?</td>\n",
       "      <td>Kathmandu Metropolitan City (KMC), in order to promote international relations has established an International Relations Secretariat (IRC). KMC's first international relationship was established in 1975 with the city of Eugene, Oregon, United States. This activity has been further enhanced by establishing formal relationships with 8 other cities: Motsumoto City of Japan, Rochester of the USA, Yangon (formerly Rangoon) of Myanmar, Xi'an of the People's Republic of China, Minsk of Belarus, and Pyongyang of the Democratic Republic of Korea. KMC's constant endeavor is to enhance its interaction with SAARC countries, other International agencies and many other major cities of the world to achieve better urban management and developmental programs for Kathmandu.</td>\n",
       "      <td>[{'answer_start': 199, 'text': '1975'}]</td>\n",
       "      <td>18890</td>\n",
       "    </tr>\n",
       "    <tr>\n",
       "      <th>87598</th>\n",
       "      <td>5735d259012e2f140011a0a1</td>\n",
       "      <td>What is KMC an initialism of?</td>\n",
       "      <td>Kathmandu Metropolitan City (KMC), in order to promote international relations has established an International Relations Secretariat (IRC). KMC's first international relationship was established in 1975 with the city of Eugene, Oregon, United States. This activity has been further enhanced by establishing formal relationships with 8 other cities: Motsumoto City of Japan, Rochester of the USA, Yangon (formerly Rangoon) of Myanmar, Xi'an of the People's Republic of China, Minsk of Belarus, and Pyongyang of the Democratic Republic of Korea. KMC's constant endeavor is to enhance its interaction with SAARC countries, other International agencies and many other major cities of the world to achieve better urban management and developmental programs for Kathmandu.</td>\n",
       "      <td>[{'answer_start': 0, 'text': 'Kathmandu Metropolitan City'}]</td>\n",
       "      <td>18890</td>\n",
       "    </tr>\n",
       "  </tbody>\n",
       "</table>\n",
       "<p>87599 rows × 5 columns</p>\n",
       "</div>"
      ],
      "text/plain": [
       "                             id  \\\n",
       "0      5733be284776f41900661182   \n",
       "1      5733be284776f4190066117f   \n",
       "2      5733be284776f41900661180   \n",
       "3      5733be284776f41900661181   \n",
       "4      5733be284776f4190066117e   \n",
       "...                         ...   \n",
       "87594  5735d259012e2f140011a09d   \n",
       "87595  5735d259012e2f140011a09e   \n",
       "87596  5735d259012e2f140011a09f   \n",
       "87597  5735d259012e2f140011a0a0   \n",
       "87598  5735d259012e2f140011a0a1   \n",
       "\n",
       "                                                                            question  \\\n",
       "0            To whom did the Virgin Mary allegedly appear in 1858 in Lourdes France?   \n",
       "1                                  What is in front of the Notre Dame Main Building?   \n",
       "2       The Basilica of the Sacred heart at Notre Dame is beside to which structure?   \n",
       "3                                                  What is the Grotto at Notre Dame?   \n",
       "4                               What sits on top of the Main Building at Notre Dame?   \n",
       "...                                                                              ...   \n",
       "87594  In what US state did Kathmandu first establish an international relationship?   \n",
       "87595                                           What was Yangon previously known as?   \n",
       "87596                 With what Belorussian city does Kathmandu have a relationship?   \n",
       "87597      In what year did Kathmandu create its initial international relationship?   \n",
       "87598                                                  What is KMC an initialism of?   \n",
       "\n",
       "                                                                                                                                                                                                                                                                                                                                                                                                                                                                                                                                                                                                                                                                                                                                                                                               context  \\\n",
       "0                                                                              Architecturally, the school has a Catholic character. Atop the Main Building's gold dome is a golden statue of the Virgin Mary. Immediately in front of the Main Building and facing it, is a copper statue of Christ with arms upraised with the legend \"Venite Ad Me Omnes\". Next to the Main Building is the Basilica of the Sacred Heart. Immediately behind the basilica is the Grotto, a Marian place of prayer and reflection. It is a replica of the grotto at Lourdes, France where the Virgin Mary reputedly appeared to Saint Bernadette Soubirous in 1858. At the end of the main drive (and in a direct line that connects through 3 statues and the Gold Dome), is a simple, modern stone statue of Mary.   \n",
       "1                                                                              Architecturally, the school has a Catholic character. Atop the Main Building's gold dome is a golden statue of the Virgin Mary. Immediately in front of the Main Building and facing it, is a copper statue of Christ with arms upraised with the legend \"Venite Ad Me Omnes\". Next to the Main Building is the Basilica of the Sacred Heart. Immediately behind the basilica is the Grotto, a Marian place of prayer and reflection. It is a replica of the grotto at Lourdes, France where the Virgin Mary reputedly appeared to Saint Bernadette Soubirous in 1858. At the end of the main drive (and in a direct line that connects through 3 statues and the Gold Dome), is a simple, modern stone statue of Mary.   \n",
       "2                                                                              Architecturally, the school has a Catholic character. Atop the Main Building's gold dome is a golden statue of the Virgin Mary. Immediately in front of the Main Building and facing it, is a copper statue of Christ with arms upraised with the legend \"Venite Ad Me Omnes\". Next to the Main Building is the Basilica of the Sacred Heart. Immediately behind the basilica is the Grotto, a Marian place of prayer and reflection. It is a replica of the grotto at Lourdes, France where the Virgin Mary reputedly appeared to Saint Bernadette Soubirous in 1858. At the end of the main drive (and in a direct line that connects through 3 statues and the Gold Dome), is a simple, modern stone statue of Mary.   \n",
       "3                                                                              Architecturally, the school has a Catholic character. Atop the Main Building's gold dome is a golden statue of the Virgin Mary. Immediately in front of the Main Building and facing it, is a copper statue of Christ with arms upraised with the legend \"Venite Ad Me Omnes\". Next to the Main Building is the Basilica of the Sacred Heart. Immediately behind the basilica is the Grotto, a Marian place of prayer and reflection. It is a replica of the grotto at Lourdes, France where the Virgin Mary reputedly appeared to Saint Bernadette Soubirous in 1858. At the end of the main drive (and in a direct line that connects through 3 statues and the Gold Dome), is a simple, modern stone statue of Mary.   \n",
       "4                                                                              Architecturally, the school has a Catholic character. Atop the Main Building's gold dome is a golden statue of the Virgin Mary. Immediately in front of the Main Building and facing it, is a copper statue of Christ with arms upraised with the legend \"Venite Ad Me Omnes\". Next to the Main Building is the Basilica of the Sacred Heart. Immediately behind the basilica is the Grotto, a Marian place of prayer and reflection. It is a replica of the grotto at Lourdes, France where the Virgin Mary reputedly appeared to Saint Bernadette Soubirous in 1858. At the end of the main drive (and in a direct line that connects through 3 statues and the Gold Dome), is a simple, modern stone statue of Mary.   \n",
       "...                                                                                                                                                                                                                                                                                                                                                                                                                                                                                                                                                                                                                                                                                                                                                                                                ...   \n",
       "87594  Kathmandu Metropolitan City (KMC), in order to promote international relations has established an International Relations Secretariat (IRC). KMC's first international relationship was established in 1975 with the city of Eugene, Oregon, United States. This activity has been further enhanced by establishing formal relationships with 8 other cities: Motsumoto City of Japan, Rochester of the USA, Yangon (formerly Rangoon) of Myanmar, Xi'an of the People's Republic of China, Minsk of Belarus, and Pyongyang of the Democratic Republic of Korea. KMC's constant endeavor is to enhance its interaction with SAARC countries, other International agencies and many other major cities of the world to achieve better urban management and developmental programs for Kathmandu.   \n",
       "87595  Kathmandu Metropolitan City (KMC), in order to promote international relations has established an International Relations Secretariat (IRC). KMC's first international relationship was established in 1975 with the city of Eugene, Oregon, United States. This activity has been further enhanced by establishing formal relationships with 8 other cities: Motsumoto City of Japan, Rochester of the USA, Yangon (formerly Rangoon) of Myanmar, Xi'an of the People's Republic of China, Minsk of Belarus, and Pyongyang of the Democratic Republic of Korea. KMC's constant endeavor is to enhance its interaction with SAARC countries, other International agencies and many other major cities of the world to achieve better urban management and developmental programs for Kathmandu.   \n",
       "87596  Kathmandu Metropolitan City (KMC), in order to promote international relations has established an International Relations Secretariat (IRC). KMC's first international relationship was established in 1975 with the city of Eugene, Oregon, United States. This activity has been further enhanced by establishing formal relationships with 8 other cities: Motsumoto City of Japan, Rochester of the USA, Yangon (formerly Rangoon) of Myanmar, Xi'an of the People's Republic of China, Minsk of Belarus, and Pyongyang of the Democratic Republic of Korea. KMC's constant endeavor is to enhance its interaction with SAARC countries, other International agencies and many other major cities of the world to achieve better urban management and developmental programs for Kathmandu.   \n",
       "87597  Kathmandu Metropolitan City (KMC), in order to promote international relations has established an International Relations Secretariat (IRC). KMC's first international relationship was established in 1975 with the city of Eugene, Oregon, United States. This activity has been further enhanced by establishing formal relationships with 8 other cities: Motsumoto City of Japan, Rochester of the USA, Yangon (formerly Rangoon) of Myanmar, Xi'an of the People's Republic of China, Minsk of Belarus, and Pyongyang of the Democratic Republic of Korea. KMC's constant endeavor is to enhance its interaction with SAARC countries, other International agencies and many other major cities of the world to achieve better urban management and developmental programs for Kathmandu.   \n",
       "87598  Kathmandu Metropolitan City (KMC), in order to promote international relations has established an International Relations Secretariat (IRC). KMC's first international relationship was established in 1975 with the city of Eugene, Oregon, United States. This activity has been further enhanced by establishing formal relationships with 8 other cities: Motsumoto City of Japan, Rochester of the USA, Yangon (formerly Rangoon) of Myanmar, Xi'an of the People's Republic of China, Minsk of Belarus, and Pyongyang of the Democratic Republic of Korea. KMC's constant endeavor is to enhance its interaction with SAARC countries, other International agencies and many other major cities of the world to achieve better urban management and developmental programs for Kathmandu.   \n",
       "\n",
       "                                                                          answers  \\\n",
       "0                   [{'answer_start': 515, 'text': 'Saint Bernadette Soubirous'}]   \n",
       "1                    [{'answer_start': 188, 'text': 'a copper statue of Christ'}]   \n",
       "2                            [{'answer_start': 279, 'text': 'the Main Building'}]   \n",
       "3      [{'answer_start': 381, 'text': 'a Marian place of prayer and reflection'}]   \n",
       "4            [{'answer_start': 92, 'text': 'a golden statue of the Virgin Mary'}]   \n",
       "...                                                                           ...   \n",
       "87594                                   [{'answer_start': 229, 'text': 'Oregon'}]   \n",
       "87595                                  [{'answer_start': 414, 'text': 'Rangoon'}]   \n",
       "87596                                    [{'answer_start': 476, 'text': 'Minsk'}]   \n",
       "87597                                     [{'answer_start': 199, 'text': '1975'}]   \n",
       "87598                [{'answer_start': 0, 'text': 'Kathmandu Metropolitan City'}]   \n",
       "\n",
       "       context_id  \n",
       "0               0  \n",
       "1               0  \n",
       "2               0  \n",
       "3               0  \n",
       "4               0  \n",
       "...           ...  \n",
       "87594       18890  \n",
       "87595       18890  \n",
       "87596       18890  \n",
       "87597       18890  \n",
       "87598       18890  \n",
       "\n",
       "[87599 rows x 5 columns]"
      ]
     },
     "execution_count": 3,
     "metadata": {},
     "output_type": "execute_result"
    }
   ],
   "source": [
    "%%time\n",
    "\n",
    "\n",
    "'''\n",
    "Reading from input file and doing json normalizing upon the train data to achieve the required \n",
    "dataframe format\n",
    "'''\n",
    "def convert_from_json_to_dataframe(file_path, record_path=['data', 'paragraphs', 'qas', 'answers']):\n",
    "    file = json.loads(open(file_path).read())\n",
    "    js = pd.json_normalize(file, record_path)\n",
    "    m = pd.json_normalize(file, record_path[:-1])\n",
    "    r = pd.json_normalize(file, record_path[:-2])\n",
    "    index = np.repeat(r['context'].values, r.qas.str.len())\n",
    "    m['context'] = index\n",
    "    data = m[['id', 'question', 'context', 'answers']].set_index('id').reset_index()\n",
    "    data['context_id'] = data['context'].factorize()[0]\n",
    "    return data\n",
    "    \n",
    "\n",
    "train_file_path = '../input/stanford-question-answering-dataset/train-v1.1.json'\n",
    "train_data = convert_from_json_to_dataframe(train_file_path)\n",
    "train_data"
   ]
  },
  {
   "cell_type": "code",
   "execution_count": 4,
   "id": "fadf9017",
   "metadata": {
    "execution": {
     "iopub.execute_input": "2023-04-28T20:39:15.498775Z",
     "iopub.status.busy": "2023-04-28T20:39:15.497842Z",
     "iopub.status.idle": "2023-04-28T20:39:15.510752Z",
     "shell.execute_reply": "2023-04-28T20:39:15.508713Z"
    },
    "papermill": {
     "duration": 0.025368,
     "end_time": "2023-04-28T20:39:15.514021",
     "exception": false,
     "start_time": "2023-04-28T20:39:15.488653",
     "status": "completed"
    },
    "tags": []
   },
   "outputs": [
    {
     "name": "stdout",
     "output_type": "stream",
     "text": [
      "Number of unique contexts in the train dataset : 18891\n",
      "CPU times: user 915 µs, sys: 2.97 ms, total: 3.88 ms\n",
      "Wall time: 4.73 ms\n"
     ]
    }
   ],
   "source": [
    "%%time\n",
    "\n",
    "# Exploring the train dataset a bit more!\n",
    "\n",
    "print ('Number of unique contexts in the train dataset :', len(train_data['context_id'].unique()))"
   ]
  },
  {
   "cell_type": "code",
   "execution_count": 5,
   "id": "c1a5a85e",
   "metadata": {
    "execution": {
     "iopub.execute_input": "2023-04-28T20:39:15.531929Z",
     "iopub.status.busy": "2023-04-28T20:39:15.531396Z",
     "iopub.status.idle": "2023-04-28T20:39:15.727916Z",
     "shell.execute_reply": "2023-04-28T20:39:15.726218Z"
    },
    "papermill": {
     "duration": 0.209661,
     "end_time": "2023-04-28T20:39:15.731229",
     "exception": false,
     "start_time": "2023-04-28T20:39:15.521568",
     "status": "completed"
    },
    "tags": []
   },
   "outputs": [
    {
     "name": "stdout",
     "output_type": "stream",
     "text": [
      "CPU times: user 170 ms, sys: 4.7 ms, total: 174 ms\n",
      "Wall time: 175 ms\n"
     ]
    },
    {
     "data": {
      "text/html": [
       "<div>\n",
       "<style scoped>\n",
       "    .dataframe tbody tr th:only-of-type {\n",
       "        vertical-align: middle;\n",
       "    }\n",
       "\n",
       "    .dataframe tbody tr th {\n",
       "        vertical-align: top;\n",
       "    }\n",
       "\n",
       "    .dataframe thead th {\n",
       "        text-align: right;\n",
       "    }\n",
       "</style>\n",
       "<table border=\"1\" class=\"dataframe\">\n",
       "  <thead>\n",
       "    <tr style=\"text-align: right;\">\n",
       "      <th></th>\n",
       "      <th>context</th>\n",
       "      <th>context_id</th>\n",
       "    </tr>\n",
       "  </thead>\n",
       "  <tbody>\n",
       "    <tr>\n",
       "      <th>0</th>\n",
       "      <td>Architecturally, the school has a Catholic character. Atop the Main Building's gold dome is a golden statue of the Virgin Mary. Immediately in front of the Main Building and facing it, is a copper statue of Christ with arms upraised with the legend \"Venite Ad Me Omnes\". Next to the Main Building is the Basilica of the Sacred Heart. Immediately behind the basilica is the Grotto, a Marian place of prayer and reflection. It is a replica of the grotto at Lourdes, France where the Virgin Mary reputedly appeared to Saint Bernadette Soubirous in 1858. At the end of the main drive (and in a direct line that connects through 3 statues and the Gold Dome), is a simple, modern stone statue of Mary.</td>\n",
       "      <td>0</td>\n",
       "    </tr>\n",
       "    <tr>\n",
       "      <th>1</th>\n",
       "      <td>As at most other universities, Notre Dame's students run a number of news media outlets. The nine student-run outlets include three newspapers, both a radio and television station, and several magazines and journals. Begun as a one-page journal in September 1876, the Scholastic magazine is issued twice monthly and claims to be the oldest continuous collegiate publication in the United States. The other magazine, The Juggler, is released twice a year and focuses on student literature and artwork. The Dome yearbook is published annually. The newspapers have varying publication interests, with The Observer published daily and mainly reporting university and other news, and staffed by students from both Notre Dame and Saint Mary's College. Unlike Scholastic and The Dome, The Observer is an independent publication and does not have a faculty advisor or any editorial oversight from the University. In 1987, when some students believed that The Observer began to show a conservative bias, a liberal newspaper, Common Sense was published. Likewise, in 2003, when other students believed that the paper showed a liberal bias, the conservative paper Irish Rover went into production. Neither paper is published as often as The Observer; however, all three are distributed to all students. Finally, in Spring 2008 an undergraduate journal for political science research, Beyond Politics, made its debut.</td>\n",
       "      <td>1</td>\n",
       "    </tr>\n",
       "    <tr>\n",
       "      <th>2</th>\n",
       "      <td>The university is the major seat of the Congregation of Holy Cross (albeit not its official headquarters, which are in Rome). Its main seminary, Moreau Seminary, is located on the campus across St. Joseph lake from the Main Building. Old College, the oldest building on campus and located near the shore of St. Mary lake, houses undergraduate seminarians. Retired priests and brothers reside in Fatima House (a former retreat center), Holy Cross House, as well as Columba Hall near the Grotto. The university through the Moreau Seminary has ties to theologian Frederick Buechner. While not Catholic, Buechner has praised writers from Notre Dame and Moreau Seminary created a Buechner Prize for Preaching.</td>\n",
       "      <td>2</td>\n",
       "    </tr>\n",
       "    <tr>\n",
       "      <th>3</th>\n",
       "      <td>The College of Engineering was established in 1920, however, early courses in civil and mechanical engineering were a part of the College of Science since the 1870s. Today the college, housed in the Fitzpatrick, Cushing, and Stinson-Remick Halls of Engineering, includes five departments of study – aerospace and mechanical engineering, chemical and biomolecular engineering, civil engineering and geological sciences, computer science and engineering, and electrical engineering – with eight B.S. degrees offered. Additionally, the college offers five-year dual degree programs with the Colleges of Arts and Letters and of Business awarding additional B.A. and Master of Business Administration (MBA) degrees, respectively.</td>\n",
       "      <td>3</td>\n",
       "    </tr>\n",
       "    <tr>\n",
       "      <th>4</th>\n",
       "      <td>All of Notre Dame's undergraduate students are a part of one of the five undergraduate colleges at the school or are in the First Year of Studies program. The First Year of Studies program was established in 1962 to guide incoming freshmen in their first year at the school before they have declared a major. Each student is given an academic advisor from the program who helps them to choose classes that give them exposure to any major in which they are interested. The program also includes a Learning Resource Center which provides time management, collaborative learning, and subject tutoring. This program has been recognized previously, by U.S. News &amp; World Report, as outstanding.</td>\n",
       "      <td>4</td>\n",
       "    </tr>\n",
       "    <tr>\n",
       "      <th>...</th>\n",
       "      <td>...</td>\n",
       "      <td>...</td>\n",
       "    </tr>\n",
       "    <tr>\n",
       "      <th>18886</th>\n",
       "      <td>Institute of Medicine, the central college of Tribhuwan University is the first medical college of Nepal and is located in Maharajgunj, Kathmandu. It was established in 1972 and started to impart medical education from 1978. A number of medical colleges including Kathmandu Medical College, Nepal Medical College, KIST Medical College, Nepal Army Institute of Health Sciences, National Academy of Medical Sciences (NAMS) and Kathmandu University School of Medical Sciences (KUSMS), are also located in or around Kathmandu.</td>\n",
       "      <td>18886</td>\n",
       "    </tr>\n",
       "    <tr>\n",
       "      <th>18887</th>\n",
       "      <td>Football and Cricket are the most popular sports among the younger generation in Nepal and there are several stadiums in the city. The sport is governed by the All Nepal Football Association (ANFA) from its headquarters in Kathmandu. The only international football stadium in the city is the Dasarath Rangasala Stadium, a multi-purpose stadium used mostly for football matches and cultural events, located in the neighborhood of Tripureshwor. It is the largest stadium in Nepal with a capacity of 25,000 spectators, built in 1956. Martyr's Memorial League is also held in this ground every year. The stadium was renovated with Chinese help before the 8th South Asian Games were held in Kathmandu and had floodlights installed. Kathmandu is home to the oldest football clubs of Nepal such as RCT, Sankata and NRT. Other prominent clubs include MMC, Machhindra FC, Tribhuwan Army Club (TAC) and MPC.</td>\n",
       "      <td>18887</td>\n",
       "    </tr>\n",
       "    <tr>\n",
       "      <th>18888</th>\n",
       "      <td>The total length of roads in Nepal is recorded to be (17,182 km (10,676 mi)), as of 2003–04. This fairly large network has helped the economic development of the country, particularly in the fields of agriculture, horticulture, vegetable farming, industry and also tourism. In view of the hilly terrain, transportation takes place in Kathmandu are mainly by road and air. Kathmandu is connected by the Tribhuvan Highway to the south, Prithvi Highway to the west and Araniko Highway to the north. The BP Highway, connecting Kathmandu to the eastern part of Nepal is under construction.</td>\n",
       "      <td>18888</td>\n",
       "    </tr>\n",
       "    <tr>\n",
       "      <th>18889</th>\n",
       "      <td>The main international airport serving Kathmandu and thus Nepal is the Tribhuvan International Airport, located about six kilometers (6 km (3.7 mi)) from the city centre. Operated by the Civil Aviation Authority of Nepal it has two terminals, one domestic and one international. At present, about 22 international airlines connect Nepal to other destinations in Europe, Asia and the Middle East, to cities such as Istanbul, Delhi, Kolkata, Singapore, Bangkok, Kuala Lumpur, Dhaka, Islamabad, Paro, Lhasa, Chengdu, and Guangzhou. A recent extension to the international terminal has made the distance to the airplanes shorter and in October 2009 it became possible to fly directly to Kathmandu from Amsterdam with Arkefly. Since 2013, Turkish Airlines connects Istanbul to Kathmandu. Regionally, several Nepali airlines operate from the city, including Agni Air, Buddha Air, Cosmic Air, Nepal Airlines and Yeti Airlines, to other major towns across Nepal.</td>\n",
       "      <td>18889</td>\n",
       "    </tr>\n",
       "    <tr>\n",
       "      <th>18890</th>\n",
       "      <td>Kathmandu Metropolitan City (KMC), in order to promote international relations has established an International Relations Secretariat (IRC). KMC's first international relationship was established in 1975 with the city of Eugene, Oregon, United States. This activity has been further enhanced by establishing formal relationships with 8 other cities: Motsumoto City of Japan, Rochester of the USA, Yangon (formerly Rangoon) of Myanmar, Xi'an of the People's Republic of China, Minsk of Belarus, and Pyongyang of the Democratic Republic of Korea. KMC's constant endeavor is to enhance its interaction with SAARC countries, other International agencies and many other major cities of the world to achieve better urban management and developmental programs for Kathmandu.</td>\n",
       "      <td>18890</td>\n",
       "    </tr>\n",
       "  </tbody>\n",
       "</table>\n",
       "<p>18891 rows × 2 columns</p>\n",
       "</div>"
      ],
      "text/plain": [
       "                                                                                                                                                                                                                                                                                                                                                                                                                                                                                                                                                                                                                                                                                                                                                                                                                                                                                                                                                                                                                                                                                                                                                                                                                                                                                                                                                                                                                                                             context  \\\n",
       "0                                                                                                                                                                                                                                                                                                                                                                                                                                                                                                                                                                                                                                                                                                                                            Architecturally, the school has a Catholic character. Atop the Main Building's gold dome is a golden statue of the Virgin Mary. Immediately in front of the Main Building and facing it, is a copper statue of Christ with arms upraised with the legend \"Venite Ad Me Omnes\". Next to the Main Building is the Basilica of the Sacred Heart. Immediately behind the basilica is the Grotto, a Marian place of prayer and reflection. It is a replica of the grotto at Lourdes, France where the Virgin Mary reputedly appeared to Saint Bernadette Soubirous in 1858. At the end of the main drive (and in a direct line that connects through 3 statues and the Gold Dome), is a simple, modern stone statue of Mary.   \n",
       "1      As at most other universities, Notre Dame's students run a number of news media outlets. The nine student-run outlets include three newspapers, both a radio and television station, and several magazines and journals. Begun as a one-page journal in September 1876, the Scholastic magazine is issued twice monthly and claims to be the oldest continuous collegiate publication in the United States. The other magazine, The Juggler, is released twice a year and focuses on student literature and artwork. The Dome yearbook is published annually. The newspapers have varying publication interests, with The Observer published daily and mainly reporting university and other news, and staffed by students from both Notre Dame and Saint Mary's College. Unlike Scholastic and The Dome, The Observer is an independent publication and does not have a faculty advisor or any editorial oversight from the University. In 1987, when some students believed that The Observer began to show a conservative bias, a liberal newspaper, Common Sense was published. Likewise, in 2003, when other students believed that the paper showed a liberal bias, the conservative paper Irish Rover went into production. Neither paper is published as often as The Observer; however, all three are distributed to all students. Finally, in Spring 2008 an undergraduate journal for political science research, Beyond Politics, made its debut.   \n",
       "2                                                                                                                                                                                                                                                                                                                                                                                                                                                                                                                                                                                                                                                                                                                                   The university is the major seat of the Congregation of Holy Cross (albeit not its official headquarters, which are in Rome). Its main seminary, Moreau Seminary, is located on the campus across St. Joseph lake from the Main Building. Old College, the oldest building on campus and located near the shore of St. Mary lake, houses undergraduate seminarians. Retired priests and brothers reside in Fatima House (a former retreat center), Holy Cross House, as well as Columba Hall near the Grotto. The university through the Moreau Seminary has ties to theologian Frederick Buechner. While not Catholic, Buechner has praised writers from Notre Dame and Moreau Seminary created a Buechner Prize for Preaching.   \n",
       "3                                                                                                                                                                                                                                                                                                                                                                                                                                                                                                                                                                                                                                                                                                               The College of Engineering was established in 1920, however, early courses in civil and mechanical engineering were a part of the College of Science since the 1870s. Today the college, housed in the Fitzpatrick, Cushing, and Stinson-Remick Halls of Engineering, includes five departments of study – aerospace and mechanical engineering, chemical and biomolecular engineering, civil engineering and geological sciences, computer science and engineering, and electrical engineering – with eight B.S. degrees offered. Additionally, the college offers five-year dual degree programs with the Colleges of Arts and Letters and of Business awarding additional B.A. and Master of Business Administration (MBA) degrees, respectively.   \n",
       "4                                                                                                                                                                                                                                                                                                                                                                                                                                                                                                                                                                                                                                                                                                                                                   All of Notre Dame's undergraduate students are a part of one of the five undergraduate colleges at the school or are in the First Year of Studies program. The First Year of Studies program was established in 1962 to guide incoming freshmen in their first year at the school before they have declared a major. Each student is given an academic advisor from the program who helps them to choose classes that give them exposure to any major in which they are interested. The program also includes a Learning Resource Center which provides time management, collaborative learning, and subject tutoring. This program has been recognized previously, by U.S. News & World Report, as outstanding.   \n",
       "...                                                                                                                                                                                                                                                                                                                                                                                                                                                                                                                                                                                                                                                                                                                                                                                                                                                                                                                                                                                                                                                                                                                                                                                                                                                                                                                                                                                                                                                              ...   \n",
       "18886                                                                                                                                                                                                                                                                                                                                                                                                                                                                                                                                                                                                                                                                                                                                                                                                                                                                                                                     Institute of Medicine, the central college of Tribhuwan University is the first medical college of Nepal and is located in Maharajgunj, Kathmandu. It was established in 1972 and started to impart medical education from 1978. A number of medical colleges including Kathmandu Medical College, Nepal Medical College, KIST Medical College, Nepal Army Institute of Health Sciences, National Academy of Medical Sciences (NAMS) and Kathmandu University School of Medical Sciences (KUSMS), are also located in or around Kathmandu.   \n",
       "18887                                                                                                                                                                                                                                                                                                                                                                                                                                                                                                                             Football and Cricket are the most popular sports among the younger generation in Nepal and there are several stadiums in the city. The sport is governed by the All Nepal Football Association (ANFA) from its headquarters in Kathmandu. The only international football stadium in the city is the Dasarath Rangasala Stadium, a multi-purpose stadium used mostly for football matches and cultural events, located in the neighborhood of Tripureshwor. It is the largest stadium in Nepal with a capacity of 25,000 spectators, built in 1956. Martyr's Memorial League is also held in this ground every year. The stadium was renovated with Chinese help before the 8th South Asian Games were held in Kathmandu and had floodlights installed. Kathmandu is home to the oldest football clubs of Nepal such as RCT, Sankata and NRT. Other prominent clubs include MMC, Machhindra FC, Tribhuwan Army Club (TAC) and MPC.   \n",
       "18888                                                                                                                                                                                                                                                                                                                                                                                                                                                                                                                                                                                                                                                                                                                                                                                                                                                       The total length of roads in Nepal is recorded to be (17,182 km (10,676 mi)), as of 2003–04. This fairly large network has helped the economic development of the country, particularly in the fields of agriculture, horticulture, vegetable farming, industry and also tourism. In view of the hilly terrain, transportation takes place in Kathmandu are mainly by road and air. Kathmandu is connected by the Tribhuvan Highway to the south, Prithvi Highway to the west and Araniko Highway to the north. The BP Highway, connecting Kathmandu to the eastern part of Nepal is under construction.   \n",
       "18889                                                                                                                                                                                                                                                                                                                                                                                                                                                                     The main international airport serving Kathmandu and thus Nepal is the Tribhuvan International Airport, located about six kilometers (6 km (3.7 mi)) from the city centre. Operated by the Civil Aviation Authority of Nepal it has two terminals, one domestic and one international. At present, about 22 international airlines connect Nepal to other destinations in Europe, Asia and the Middle East, to cities such as Istanbul, Delhi, Kolkata, Singapore, Bangkok, Kuala Lumpur, Dhaka, Islamabad, Paro, Lhasa, Chengdu, and Guangzhou. A recent extension to the international terminal has made the distance to the airplanes shorter and in October 2009 it became possible to fly directly to Kathmandu from Amsterdam with Arkefly. Since 2013, Turkish Airlines connects Istanbul to Kathmandu. Regionally, several Nepali airlines operate from the city, including Agni Air, Buddha Air, Cosmic Air, Nepal Airlines and Yeti Airlines, to other major towns across Nepal.   \n",
       "18890                                                                                                                                                                                                                                                                                                                                                                                                                                                                                                                                                                                                                                                                Kathmandu Metropolitan City (KMC), in order to promote international relations has established an International Relations Secretariat (IRC). KMC's first international relationship was established in 1975 with the city of Eugene, Oregon, United States. This activity has been further enhanced by establishing formal relationships with 8 other cities: Motsumoto City of Japan, Rochester of the USA, Yangon (formerly Rangoon) of Myanmar, Xi'an of the People's Republic of China, Minsk of Belarus, and Pyongyang of the Democratic Republic of Korea. KMC's constant endeavor is to enhance its interaction with SAARC countries, other International agencies and many other major cities of the world to achieve better urban management and developmental programs for Kathmandu.   \n",
       "\n",
       "       context_id  \n",
       "0               0  \n",
       "1               1  \n",
       "2               2  \n",
       "3               3  \n",
       "4               4  \n",
       "...           ...  \n",
       "18886       18886  \n",
       "18887       18887  \n",
       "18888       18888  \n",
       "18889       18889  \n",
       "18890       18890  \n",
       "\n",
       "[18891 rows x 2 columns]"
      ]
     },
     "execution_count": 5,
     "metadata": {},
     "output_type": "execute_result"
    }
   ],
   "source": [
    "%%time\n",
    "\n",
    "# Getting unique documents from the train dataset\n",
    "\n",
    "train_unique_documents = train_data[['context', 'context_id']].drop_duplicates().reset_index(drop=True)\n",
    "train_unique_documents"
   ]
  },
  {
   "cell_type": "code",
   "execution_count": 6,
   "id": "8d7742d0",
   "metadata": {
    "execution": {
     "iopub.execute_input": "2023-04-28T20:39:15.751995Z",
     "iopub.status.busy": "2023-04-28T20:39:15.751504Z",
     "iopub.status.idle": "2023-04-28T20:39:32.925708Z",
     "shell.execute_reply": "2023-04-28T20:39:32.924173Z"
    },
    "papermill": {
     "duration": 17.188596,
     "end_time": "2023-04-28T20:39:32.928567",
     "exception": false,
     "start_time": "2023-04-28T20:39:15.739971",
     "status": "completed"
    },
    "tags": []
   },
   "outputs": [
    {
     "name": "stdout",
     "output_type": "stream",
     "text": [
      "CPU times: user 17 s, sys: 120 ms, total: 17.1 s\n",
      "Wall time: 17.2 s\n"
     ]
    }
   ],
   "source": [
    "%%time\n",
    "\n",
    "# Creating a corpus of tokens\n",
    "\n",
    "train_corpus = train_unique_documents['context'].tolist()\n",
    "train_corpus = [preprocess_string(t) for t in train_corpus]"
   ]
  },
  {
   "cell_type": "code",
   "execution_count": 7,
   "id": "949686e0",
   "metadata": {
    "execution": {
     "iopub.execute_input": "2023-04-28T20:39:32.951677Z",
     "iopub.status.busy": "2023-04-28T20:39:32.950253Z",
     "iopub.status.idle": "2023-04-28T20:40:08.325693Z",
     "shell.execute_reply": "2023-04-28T20:40:08.324219Z"
    },
    "papermill": {
     "duration": 35.397686,
     "end_time": "2023-04-28T20:40:08.336123",
     "exception": false,
     "start_time": "2023-04-28T20:39:32.938437",
     "status": "completed"
    },
    "tags": []
   },
   "outputs": [
    {
     "name": "stdout",
     "output_type": "stream",
     "text": [
      "CPU times: user 2min 4s, sys: 615 ms, total: 2min 5s\n",
      "Wall time: 35.4 s\n"
     ]
    }
   ],
   "source": [
    "%%time\n",
    "\n",
    "# Defining the Word2Vec model\n",
    "\n",
    "vectorizer = Word2Vec(sentences=train_corpus, vector_size=300, window=5, min_count=10, workers=4, epochs=20).wv"
   ]
  },
  {
   "cell_type": "code",
   "execution_count": 8,
   "id": "99d24de4",
   "metadata": {
    "execution": {
     "iopub.execute_input": "2023-04-28T20:40:08.355854Z",
     "iopub.status.busy": "2023-04-28T20:40:08.355363Z",
     "iopub.status.idle": "2023-04-28T20:40:08.387076Z",
     "shell.execute_reply": "2023-04-28T20:40:08.384699Z"
    },
    "papermill": {
     "duration": 0.048691,
     "end_time": "2023-04-28T20:40:08.393727",
     "exception": false,
     "start_time": "2023-04-28T20:40:08.345036",
     "status": "completed"
    },
    "tags": []
   },
   "outputs": [
    {
     "name": "stdout",
     "output_type": "stream",
     "text": [
      "CPU times: user 8.06 ms, sys: 2.95 ms, total: 11 ms\n",
      "Wall time: 7.74 ms\n"
     ]
    },
    {
     "data": {
      "text/plain": [
       "[('destin', 0.7457951307296753),\n",
       " ('visitor', 0.7418142557144165),\n",
       " ('tourism', 0.6451799869537354),\n",
       " ('porto', 0.5706731677055359),\n",
       " ('windhoek', 0.521174430847168)]"
      ]
     },
     "execution_count": 8,
     "metadata": {},
     "output_type": "execute_result"
    }
   ],
   "source": [
    "%%time\n",
    "\n",
    "# Getting the 5 most similar words to a sample word\n",
    "\n",
    "vectorizer.most_similar('tourist', topn=5)"
   ]
  },
  {
   "cell_type": "code",
   "execution_count": 9,
   "id": "f8ad1404",
   "metadata": {
    "execution": {
     "iopub.execute_input": "2023-04-28T20:40:08.443918Z",
     "iopub.status.busy": "2023-04-28T20:40:08.443088Z",
     "iopub.status.idle": "2023-04-28T20:40:08.470490Z",
     "shell.execute_reply": "2023-04-28T20:40:08.468255Z"
    },
    "papermill": {
     "duration": 0.0606,
     "end_time": "2023-04-28T20:40:08.477853",
     "exception": false,
     "start_time": "2023-04-28T20:40:08.417253",
     "status": "completed"
    },
    "tags": []
   },
   "outputs": [
    {
     "name": "stdout",
     "output_type": "stream",
     "text": [
      "Text : What are the tourist spots in Spain?\n",
      "Vector : ['tourist', 'spot', 'spain']\n",
      "CPU times: user 7.96 ms, sys: 12 ms, total: 20 ms\n",
      "Wall time: 6.34 ms\n"
     ]
    }
   ],
   "source": [
    "%%time\n",
    "\n",
    "# Text Transformation \n",
    "\n",
    "def text_transformation(vectorizer, text, verbose=True):\n",
    "    tokens = preprocess_string(text)\n",
    "    words = [vectorizer[w] for w in tokens if w in vectorizer]\n",
    "    vector = [w for w in tokens if w in vectorizer]\n",
    "    if verbose:\n",
    "        print ('Text :', text)\n",
    "        print ('Vector :', vector)\n",
    "    elif len(words):\n",
    "        return np.mean(words, axis=0)\n",
    "    else:\n",
    "        return np.zeros((300), dtype=np.float32)\n",
    "    \n",
    "\n",
    "question = 'What are the tourist spots in Spain?'    \n",
    "text_transformation(vectorizer, question, True)"
   ]
  },
  {
   "cell_type": "code",
   "execution_count": 10,
   "id": "4810a6b0",
   "metadata": {
    "execution": {
     "iopub.execute_input": "2023-04-28T20:40:08.508214Z",
     "iopub.status.busy": "2023-04-28T20:40:08.506740Z",
     "iopub.status.idle": "2023-04-28T20:40:33.505083Z",
     "shell.execute_reply": "2023-04-28T20:40:33.503868Z"
    },
    "papermill": {
     "duration": 25.015153,
     "end_time": "2023-04-28T20:40:33.508458",
     "exception": false,
     "start_time": "2023-04-28T20:40:08.493305",
     "status": "completed"
    },
    "tags": []
   },
   "outputs": [
    {
     "name": "stdout",
     "output_type": "stream",
     "text": [
      "CPU times: user 24.8 s, sys: 45.8 ms, total: 24.9 s\n",
      "Wall time: 25 s\n"
     ]
    },
    {
     "data": {
      "text/plain": [
       "NearestNeighbors(metric='cosine', n_neighbors=1)"
      ]
     },
     "execution_count": 10,
     "metadata": {},
     "output_type": "execute_result"
    }
   ],
   "source": [
    "%%time\n",
    "\n",
    "# Training the model\n",
    "\n",
    "retriever_configs = {'n_neighbors' : 1, 'metric' : 'cosine'}\n",
    "retriever = NearestNeighbors(**retriever_configs)\n",
    "X_train = train_unique_documents['context'].apply(lambda x : text_transformation(vectorizer, x, False)).tolist()\n",
    "retriever.fit(X_train, train_unique_documents['context_id'])"
   ]
  },
  {
   "cell_type": "code",
   "execution_count": 11,
   "id": "1180adea",
   "metadata": {
    "execution": {
     "iopub.execute_input": "2023-04-28T20:40:33.531522Z",
     "iopub.status.busy": "2023-04-28T20:40:33.530662Z",
     "iopub.status.idle": "2023-04-28T20:41:11.717718Z",
     "shell.execute_reply": "2023-04-28T20:41:11.715499Z"
    },
    "papermill": {
     "duration": 38.209987,
     "end_time": "2023-04-28T20:41:11.728049",
     "exception": false,
     "start_time": "2023-04-28T20:40:33.518062",
     "status": "completed"
    },
    "tags": []
   },
   "outputs": [
    {
     "name": "stdout",
     "output_type": "stream",
     "text": [
      "CPU times: user 57.5 s, sys: 12.5 s, total: 1min 10s\n",
      "Wall time: 38.2 s\n"
     ]
    }
   ],
   "source": [
    "%%time\n",
    "\n",
    "# Evaluating the above model\n",
    "\n",
    "X_train = train_data['question'].apply(lambda x : text_transformation(vectorizer, x, False)).tolist()\n",
    "\n",
    "# predict one document for each question\n",
    "y_test = train_data['context_id']\n",
    "y_pred = retriever.kneighbors(X_train, return_distance=False)"
   ]
  },
  {
   "cell_type": "code",
   "execution_count": 12,
   "id": "a75f1931",
   "metadata": {
    "execution": {
     "iopub.execute_input": "2023-04-28T20:41:11.747736Z",
     "iopub.status.busy": "2023-04-28T20:41:11.747218Z",
     "iopub.status.idle": "2023-04-28T20:41:12.487568Z",
     "shell.execute_reply": "2023-04-28T20:41:12.485711Z"
    },
    "papermill": {
     "duration": 0.754218,
     "end_time": "2023-04-28T20:41:12.491000",
     "exception": false,
     "start_time": "2023-04-28T20:41:11.736782",
     "status": "completed"
    },
    "tags": []
   },
   "outputs": [
    {
     "name": "stdout",
     "output_type": "stream",
     "text": [
      "Accuracy: 0.2151\n",
      "CPU times: user 728 ms, sys: 1 ms, total: 729 ms\n",
      "Wall time: 731 ms\n"
     ]
    }
   ],
   "source": [
    "%%time\n",
    "\n",
    "# Testing the model upon the training set\n",
    "def compute_accuracy(y_test, y_pred):\n",
    "    num_correct, num_total = 0, len(y_test)\n",
    "    for i in range(num_total):\n",
    "        y_pred_list = y_pred[i]\n",
    "        if y_test[i] in y_pred_list:\n",
    "            num_correct += 1\n",
    "    return num_correct / num_total\n",
    "\n",
    "\n",
    "acc = compute_accuracy(y_test, y_pred)\n",
    "print('Accuracy:', f'{acc:.4f}')"
   ]
  },
  {
   "cell_type": "code",
   "execution_count": 13,
   "id": "64831408",
   "metadata": {
    "execution": {
     "iopub.execute_input": "2023-04-28T20:41:12.513728Z",
     "iopub.status.busy": "2023-04-28T20:41:12.512894Z",
     "iopub.status.idle": "2023-04-28T20:41:13.794628Z",
     "shell.execute_reply": "2023-04-28T20:41:13.792308Z"
    },
    "papermill": {
     "duration": 1.297784,
     "end_time": "2023-04-28T20:41:13.798136",
     "exception": false,
     "start_time": "2023-04-28T20:41:12.500352",
     "status": "completed"
    },
    "tags": []
   },
   "outputs": [
    {
     "name": "stdout",
     "output_type": "stream",
     "text": [
      "CPU times: user 1.14 s, sys: 35.6 ms, total: 1.17 s\n",
      "Wall time: 1.24 s\n"
     ]
    },
    {
     "data": {
      "text/html": [
       "<div>\n",
       "<style scoped>\n",
       "    .dataframe tbody tr th:only-of-type {\n",
       "        vertical-align: middle;\n",
       "    }\n",
       "\n",
       "    .dataframe tbody tr th {\n",
       "        vertical-align: top;\n",
       "    }\n",
       "\n",
       "    .dataframe thead th {\n",
       "        text-align: right;\n",
       "    }\n",
       "</style>\n",
       "<table border=\"1\" class=\"dataframe\">\n",
       "  <thead>\n",
       "    <tr style=\"text-align: right;\">\n",
       "      <th></th>\n",
       "      <th>id</th>\n",
       "      <th>question</th>\n",
       "      <th>context</th>\n",
       "      <th>answers</th>\n",
       "      <th>context_id</th>\n",
       "    </tr>\n",
       "  </thead>\n",
       "  <tbody>\n",
       "    <tr>\n",
       "      <th>0</th>\n",
       "      <td>56be4db0acb8001400a502ec</td>\n",
       "      <td>Which NFL team represented the AFC at Super Bowl 50?</td>\n",
       "      <td>Super Bowl 50 was an American football game to determine the champion of the National Football League (NFL) for the 2015 season. The American Football Conference (AFC) champion Denver Broncos defeated the National Football Conference (NFC) champion Carolina Panthers 24–10 to earn their third Super Bowl title. The game was played on February 7, 2016, at Levi's Stadium in the San Francisco Bay Area at Santa Clara, California. As this was the 50th Super Bowl, the league emphasized the \"golden anniversary\" with various gold-themed initiatives, as well as temporarily suspending the tradition of naming each Super Bowl game with Roman numerals (under which the game would have been known as \"Super Bowl L\"), so that the logo could prominently feature the Arabic numerals 50.</td>\n",
       "      <td>[{'answer_start': 177, 'text': 'Denver Broncos'}, {'answer_start': 177, 'text': 'Denver Broncos'}, {'answer_start': 177, 'text': 'Denver Broncos'}]</td>\n",
       "      <td>0</td>\n",
       "    </tr>\n",
       "    <tr>\n",
       "      <th>1</th>\n",
       "      <td>56be4db0acb8001400a502ed</td>\n",
       "      <td>Which NFL team represented the NFC at Super Bowl 50?</td>\n",
       "      <td>Super Bowl 50 was an American football game to determine the champion of the National Football League (NFL) for the 2015 season. The American Football Conference (AFC) champion Denver Broncos defeated the National Football Conference (NFC) champion Carolina Panthers 24–10 to earn their third Super Bowl title. The game was played on February 7, 2016, at Levi's Stadium in the San Francisco Bay Area at Santa Clara, California. As this was the 50th Super Bowl, the league emphasized the \"golden anniversary\" with various gold-themed initiatives, as well as temporarily suspending the tradition of naming each Super Bowl game with Roman numerals (under which the game would have been known as \"Super Bowl L\"), so that the logo could prominently feature the Arabic numerals 50.</td>\n",
       "      <td>[{'answer_start': 249, 'text': 'Carolina Panthers'}, {'answer_start': 249, 'text': 'Carolina Panthers'}, {'answer_start': 249, 'text': 'Carolina Panthers'}]</td>\n",
       "      <td>0</td>\n",
       "    </tr>\n",
       "    <tr>\n",
       "      <th>2</th>\n",
       "      <td>56be4db0acb8001400a502ee</td>\n",
       "      <td>Where did Super Bowl 50 take place?</td>\n",
       "      <td>Super Bowl 50 was an American football game to determine the champion of the National Football League (NFL) for the 2015 season. The American Football Conference (AFC) champion Denver Broncos defeated the National Football Conference (NFC) champion Carolina Panthers 24–10 to earn their third Super Bowl title. The game was played on February 7, 2016, at Levi's Stadium in the San Francisco Bay Area at Santa Clara, California. As this was the 50th Super Bowl, the league emphasized the \"golden anniversary\" with various gold-themed initiatives, as well as temporarily suspending the tradition of naming each Super Bowl game with Roman numerals (under which the game would have been known as \"Super Bowl L\"), so that the logo could prominently feature the Arabic numerals 50.</td>\n",
       "      <td>[{'answer_start': 403, 'text': 'Santa Clara, California'}, {'answer_start': 355, 'text': 'Levi's Stadium'}, {'answer_start': 355, 'text': 'Levi's Stadium in the San Francisco Bay Area at Santa Clara, California.'}]</td>\n",
       "      <td>0</td>\n",
       "    </tr>\n",
       "    <tr>\n",
       "      <th>3</th>\n",
       "      <td>56be4db0acb8001400a502ef</td>\n",
       "      <td>Which NFL team won Super Bowl 50?</td>\n",
       "      <td>Super Bowl 50 was an American football game to determine the champion of the National Football League (NFL) for the 2015 season. The American Football Conference (AFC) champion Denver Broncos defeated the National Football Conference (NFC) champion Carolina Panthers 24–10 to earn their third Super Bowl title. The game was played on February 7, 2016, at Levi's Stadium in the San Francisco Bay Area at Santa Clara, California. As this was the 50th Super Bowl, the league emphasized the \"golden anniversary\" with various gold-themed initiatives, as well as temporarily suspending the tradition of naming each Super Bowl game with Roman numerals (under which the game would have been known as \"Super Bowl L\"), so that the logo could prominently feature the Arabic numerals 50.</td>\n",
       "      <td>[{'answer_start': 177, 'text': 'Denver Broncos'}, {'answer_start': 177, 'text': 'Denver Broncos'}, {'answer_start': 177, 'text': 'Denver Broncos'}]</td>\n",
       "      <td>0</td>\n",
       "    </tr>\n",
       "    <tr>\n",
       "      <th>4</th>\n",
       "      <td>56be4db0acb8001400a502f0</td>\n",
       "      <td>What color was used to emphasize the 50th anniversary of the Super Bowl?</td>\n",
       "      <td>Super Bowl 50 was an American football game to determine the champion of the National Football League (NFL) for the 2015 season. The American Football Conference (AFC) champion Denver Broncos defeated the National Football Conference (NFC) champion Carolina Panthers 24–10 to earn their third Super Bowl title. The game was played on February 7, 2016, at Levi's Stadium in the San Francisco Bay Area at Santa Clara, California. As this was the 50th Super Bowl, the league emphasized the \"golden anniversary\" with various gold-themed initiatives, as well as temporarily suspending the tradition of naming each Super Bowl game with Roman numerals (under which the game would have been known as \"Super Bowl L\"), so that the logo could prominently feature the Arabic numerals 50.</td>\n",
       "      <td>[{'answer_start': 488, 'text': 'gold'}, {'answer_start': 488, 'text': 'gold'}, {'answer_start': 521, 'text': 'gold'}]</td>\n",
       "      <td>0</td>\n",
       "    </tr>\n",
       "    <tr>\n",
       "      <th>...</th>\n",
       "      <td>...</td>\n",
       "      <td>...</td>\n",
       "      <td>...</td>\n",
       "      <td>...</td>\n",
       "      <td>...</td>\n",
       "    </tr>\n",
       "    <tr>\n",
       "      <th>10565</th>\n",
       "      <td>5737aafd1c456719005744fb</td>\n",
       "      <td>What is the metric term less used than the Newton?</td>\n",
       "      <td>The pound-force has a metric counterpart, less commonly used than the newton: the kilogram-force (kgf) (sometimes kilopond), is the force exerted by standard gravity on one kilogram of mass. The kilogram-force leads to an alternate, but rarely used unit of mass: the metric slug (sometimes mug or hyl) is that mass that accelerates at 1 m·s−2 when subjected to a force of 1 kgf. The kilogram-force is not a part of the modern SI system, and is generally deprecated; however it still sees use for some purposes as expressing aircraft weight, jet thrust, bicycle spoke tension, torque wrench settings and engine output torque. Other arcane units of force include the sthène, which is equivalent to 1000 N, and the kip, which is equivalent to 1000 lbf.</td>\n",
       "      <td>[{'answer_start': 82, 'text': 'kilogram-force'}, {'answer_start': 4, 'text': 'pound-force'}, {'answer_start': 82, 'text': 'kilogram-force (kgf)'}, {'answer_start': 82, 'text': 'kilogram-force'}, {'answer_start': 78, 'text': 'the kilogram-force ('}]</td>\n",
       "      <td>2066</td>\n",
       "    </tr>\n",
       "    <tr>\n",
       "      <th>10566</th>\n",
       "      <td>5737aafd1c456719005744fc</td>\n",
       "      <td>What is the kilogram-force sometimes reffered to as?</td>\n",
       "      <td>The pound-force has a metric counterpart, less commonly used than the newton: the kilogram-force (kgf) (sometimes kilopond), is the force exerted by standard gravity on one kilogram of mass. The kilogram-force leads to an alternate, but rarely used unit of mass: the metric slug (sometimes mug or hyl) is that mass that accelerates at 1 m·s−2 when subjected to a force of 1 kgf. The kilogram-force is not a part of the modern SI system, and is generally deprecated; however it still sees use for some purposes as expressing aircraft weight, jet thrust, bicycle spoke tension, torque wrench settings and engine output torque. Other arcane units of force include the sthène, which is equivalent to 1000 N, and the kip, which is equivalent to 1000 lbf.</td>\n",
       "      <td>[{'answer_start': 114, 'text': 'kilopond'}, {'answer_start': 114, 'text': 'kilopond'}, {'answer_start': 114, 'text': 'kilopond'}, {'answer_start': 114, 'text': 'kilopond'}, {'answer_start': 114, 'text': 'kilopond'}]</td>\n",
       "      <td>2066</td>\n",
       "    </tr>\n",
       "    <tr>\n",
       "      <th>10567</th>\n",
       "      <td>5737aafd1c456719005744fd</td>\n",
       "      <td>What is a very seldom used unit of mass in the metric system?</td>\n",
       "      <td>The pound-force has a metric counterpart, less commonly used than the newton: the kilogram-force (kgf) (sometimes kilopond), is the force exerted by standard gravity on one kilogram of mass. The kilogram-force leads to an alternate, but rarely used unit of mass: the metric slug (sometimes mug or hyl) is that mass that accelerates at 1 m·s−2 when subjected to a force of 1 kgf. The kilogram-force is not a part of the modern SI system, and is generally deprecated; however it still sees use for some purposes as expressing aircraft weight, jet thrust, bicycle spoke tension, torque wrench settings and engine output torque. Other arcane units of force include the sthène, which is equivalent to 1000 N, and the kip, which is equivalent to 1000 lbf.</td>\n",
       "      <td>[{'answer_start': 274, 'text': 'slug'}, {'answer_start': 267, 'text': 'metric slug'}, {'answer_start': 267, 'text': 'metric slug'}, {'answer_start': 267, 'text': 'metric slug'}, {'answer_start': 263, 'text': 'the metric slug'}]</td>\n",
       "      <td>2066</td>\n",
       "    </tr>\n",
       "    <tr>\n",
       "      <th>10568</th>\n",
       "      <td>5737aafd1c456719005744fe</td>\n",
       "      <td>What seldom used term of a unit of force equal to 1000 pound s of force?</td>\n",
       "      <td>The pound-force has a metric counterpart, less commonly used than the newton: the kilogram-force (kgf) (sometimes kilopond), is the force exerted by standard gravity on one kilogram of mass. The kilogram-force leads to an alternate, but rarely used unit of mass: the metric slug (sometimes mug or hyl) is that mass that accelerates at 1 m·s−2 when subjected to a force of 1 kgf. The kilogram-force is not a part of the modern SI system, and is generally deprecated; however it still sees use for some purposes as expressing aircraft weight, jet thrust, bicycle spoke tension, torque wrench settings and engine output torque. Other arcane units of force include the sthène, which is equivalent to 1000 N, and the kip, which is equivalent to 1000 lbf.</td>\n",
       "      <td>[{'answer_start': 712, 'text': 'kip'}, {'answer_start': 712, 'text': 'kip'}, {'answer_start': 712, 'text': 'kip'}, {'answer_start': 712, 'text': 'kip'}, {'answer_start': 712, 'text': 'kip'}]</td>\n",
       "      <td>2066</td>\n",
       "    </tr>\n",
       "    <tr>\n",
       "      <th>10569</th>\n",
       "      <td>5737aafd1c456719005744ff</td>\n",
       "      <td>What is the seldom used force unit equal to one thousand newtons?</td>\n",
       "      <td>The pound-force has a metric counterpart, less commonly used than the newton: the kilogram-force (kgf) (sometimes kilopond), is the force exerted by standard gravity on one kilogram of mass. The kilogram-force leads to an alternate, but rarely used unit of mass: the metric slug (sometimes mug or hyl) is that mass that accelerates at 1 m·s−2 when subjected to a force of 1 kgf. The kilogram-force is not a part of the modern SI system, and is generally deprecated; however it still sees use for some purposes as expressing aircraft weight, jet thrust, bicycle spoke tension, torque wrench settings and engine output torque. Other arcane units of force include the sthène, which is equivalent to 1000 N, and the kip, which is equivalent to 1000 lbf.</td>\n",
       "      <td>[{'answer_start': 665, 'text': 'sthène'}, {'answer_start': 665, 'text': 'sthène'}, {'answer_start': 665, 'text': 'sthène'}, {'answer_start': 665, 'text': 'sthène'}, {'answer_start': 665, 'text': 'sthène'}]</td>\n",
       "      <td>2066</td>\n",
       "    </tr>\n",
       "  </tbody>\n",
       "</table>\n",
       "<p>10570 rows × 5 columns</p>\n",
       "</div>"
      ],
      "text/plain": [
       "                             id  \\\n",
       "0      56be4db0acb8001400a502ec   \n",
       "1      56be4db0acb8001400a502ed   \n",
       "2      56be4db0acb8001400a502ee   \n",
       "3      56be4db0acb8001400a502ef   \n",
       "4      56be4db0acb8001400a502f0   \n",
       "...                         ...   \n",
       "10565  5737aafd1c456719005744fb   \n",
       "10566  5737aafd1c456719005744fc   \n",
       "10567  5737aafd1c456719005744fd   \n",
       "10568  5737aafd1c456719005744fe   \n",
       "10569  5737aafd1c456719005744ff   \n",
       "\n",
       "                                                                       question  \\\n",
       "0                          Which NFL team represented the AFC at Super Bowl 50?   \n",
       "1                          Which NFL team represented the NFC at Super Bowl 50?   \n",
       "2                                           Where did Super Bowl 50 take place?   \n",
       "3                                             Which NFL team won Super Bowl 50?   \n",
       "4      What color was used to emphasize the 50th anniversary of the Super Bowl?   \n",
       "...                                                                         ...   \n",
       "10565                        What is the metric term less used than the Newton?   \n",
       "10566                      What is the kilogram-force sometimes reffered to as?   \n",
       "10567             What is a very seldom used unit of mass in the metric system?   \n",
       "10568  What seldom used term of a unit of force equal to 1000 pound s of force?   \n",
       "10569         What is the seldom used force unit equal to one thousand newtons?   \n",
       "\n",
       "                                                                                                                                                                                                                                                                                                                                                                                                                                                                                                                                                                                                                                                                                                                                                                                                       context  \\\n",
       "0      Super Bowl 50 was an American football game to determine the champion of the National Football League (NFL) for the 2015 season. The American Football Conference (AFC) champion Denver Broncos defeated the National Football Conference (NFC) champion Carolina Panthers 24–10 to earn their third Super Bowl title. The game was played on February 7, 2016, at Levi's Stadium in the San Francisco Bay Area at Santa Clara, California. As this was the 50th Super Bowl, the league emphasized the \"golden anniversary\" with various gold-themed initiatives, as well as temporarily suspending the tradition of naming each Super Bowl game with Roman numerals (under which the game would have been known as \"Super Bowl L\"), so that the logo could prominently feature the Arabic numerals 50.   \n",
       "1      Super Bowl 50 was an American football game to determine the champion of the National Football League (NFL) for the 2015 season. The American Football Conference (AFC) champion Denver Broncos defeated the National Football Conference (NFC) champion Carolina Panthers 24–10 to earn their third Super Bowl title. The game was played on February 7, 2016, at Levi's Stadium in the San Francisco Bay Area at Santa Clara, California. As this was the 50th Super Bowl, the league emphasized the \"golden anniversary\" with various gold-themed initiatives, as well as temporarily suspending the tradition of naming each Super Bowl game with Roman numerals (under which the game would have been known as \"Super Bowl L\"), so that the logo could prominently feature the Arabic numerals 50.   \n",
       "2      Super Bowl 50 was an American football game to determine the champion of the National Football League (NFL) for the 2015 season. The American Football Conference (AFC) champion Denver Broncos defeated the National Football Conference (NFC) champion Carolina Panthers 24–10 to earn their third Super Bowl title. The game was played on February 7, 2016, at Levi's Stadium in the San Francisco Bay Area at Santa Clara, California. As this was the 50th Super Bowl, the league emphasized the \"golden anniversary\" with various gold-themed initiatives, as well as temporarily suspending the tradition of naming each Super Bowl game with Roman numerals (under which the game would have been known as \"Super Bowl L\"), so that the logo could prominently feature the Arabic numerals 50.   \n",
       "3      Super Bowl 50 was an American football game to determine the champion of the National Football League (NFL) for the 2015 season. The American Football Conference (AFC) champion Denver Broncos defeated the National Football Conference (NFC) champion Carolina Panthers 24–10 to earn their third Super Bowl title. The game was played on February 7, 2016, at Levi's Stadium in the San Francisco Bay Area at Santa Clara, California. As this was the 50th Super Bowl, the league emphasized the \"golden anniversary\" with various gold-themed initiatives, as well as temporarily suspending the tradition of naming each Super Bowl game with Roman numerals (under which the game would have been known as \"Super Bowl L\"), so that the logo could prominently feature the Arabic numerals 50.   \n",
       "4      Super Bowl 50 was an American football game to determine the champion of the National Football League (NFL) for the 2015 season. The American Football Conference (AFC) champion Denver Broncos defeated the National Football Conference (NFC) champion Carolina Panthers 24–10 to earn their third Super Bowl title. The game was played on February 7, 2016, at Levi's Stadium in the San Francisco Bay Area at Santa Clara, California. As this was the 50th Super Bowl, the league emphasized the \"golden anniversary\" with various gold-themed initiatives, as well as temporarily suspending the tradition of naming each Super Bowl game with Roman numerals (under which the game would have been known as \"Super Bowl L\"), so that the logo could prominently feature the Arabic numerals 50.   \n",
       "...                                                                                                                                                                                                                                                                                                                                                                                                                                                                                                                                                                                                                                                                                                                                                                                                        ...   \n",
       "10565                            The pound-force has a metric counterpart, less commonly used than the newton: the kilogram-force (kgf) (sometimes kilopond), is the force exerted by standard gravity on one kilogram of mass. The kilogram-force leads to an alternate, but rarely used unit of mass: the metric slug (sometimes mug or hyl) is that mass that accelerates at 1 m·s−2 when subjected to a force of 1 kgf. The kilogram-force is not a part of the modern SI system, and is generally deprecated; however it still sees use for some purposes as expressing aircraft weight, jet thrust, bicycle spoke tension, torque wrench settings and engine output torque. Other arcane units of force include the sthène, which is equivalent to 1000 N, and the kip, which is equivalent to 1000 lbf.   \n",
       "10566                            The pound-force has a metric counterpart, less commonly used than the newton: the kilogram-force (kgf) (sometimes kilopond), is the force exerted by standard gravity on one kilogram of mass. The kilogram-force leads to an alternate, but rarely used unit of mass: the metric slug (sometimes mug or hyl) is that mass that accelerates at 1 m·s−2 when subjected to a force of 1 kgf. The kilogram-force is not a part of the modern SI system, and is generally deprecated; however it still sees use for some purposes as expressing aircraft weight, jet thrust, bicycle spoke tension, torque wrench settings and engine output torque. Other arcane units of force include the sthène, which is equivalent to 1000 N, and the kip, which is equivalent to 1000 lbf.   \n",
       "10567                            The pound-force has a metric counterpart, less commonly used than the newton: the kilogram-force (kgf) (sometimes kilopond), is the force exerted by standard gravity on one kilogram of mass. The kilogram-force leads to an alternate, but rarely used unit of mass: the metric slug (sometimes mug or hyl) is that mass that accelerates at 1 m·s−2 when subjected to a force of 1 kgf. The kilogram-force is not a part of the modern SI system, and is generally deprecated; however it still sees use for some purposes as expressing aircraft weight, jet thrust, bicycle spoke tension, torque wrench settings and engine output torque. Other arcane units of force include the sthène, which is equivalent to 1000 N, and the kip, which is equivalent to 1000 lbf.   \n",
       "10568                            The pound-force has a metric counterpart, less commonly used than the newton: the kilogram-force (kgf) (sometimes kilopond), is the force exerted by standard gravity on one kilogram of mass. The kilogram-force leads to an alternate, but rarely used unit of mass: the metric slug (sometimes mug or hyl) is that mass that accelerates at 1 m·s−2 when subjected to a force of 1 kgf. The kilogram-force is not a part of the modern SI system, and is generally deprecated; however it still sees use for some purposes as expressing aircraft weight, jet thrust, bicycle spoke tension, torque wrench settings and engine output torque. Other arcane units of force include the sthène, which is equivalent to 1000 N, and the kip, which is equivalent to 1000 lbf.   \n",
       "10569                            The pound-force has a metric counterpart, less commonly used than the newton: the kilogram-force (kgf) (sometimes kilopond), is the force exerted by standard gravity on one kilogram of mass. The kilogram-force leads to an alternate, but rarely used unit of mass: the metric slug (sometimes mug or hyl) is that mass that accelerates at 1 m·s−2 when subjected to a force of 1 kgf. The kilogram-force is not a part of the modern SI system, and is generally deprecated; however it still sees use for some purposes as expressing aircraft weight, jet thrust, bicycle spoke tension, torque wrench settings and engine output torque. Other arcane units of force include the sthène, which is equivalent to 1000 N, and the kip, which is equivalent to 1000 lbf.   \n",
       "\n",
       "                                                                                                                                                                                                                                                        answers  \\\n",
       "0                                                                                                           [{'answer_start': 177, 'text': 'Denver Broncos'}, {'answer_start': 177, 'text': 'Denver Broncos'}, {'answer_start': 177, 'text': 'Denver Broncos'}]   \n",
       "1                                                                                                  [{'answer_start': 249, 'text': 'Carolina Panthers'}, {'answer_start': 249, 'text': 'Carolina Panthers'}, {'answer_start': 249, 'text': 'Carolina Panthers'}]   \n",
       "2                                        [{'answer_start': 403, 'text': 'Santa Clara, California'}, {'answer_start': 355, 'text': 'Levi's Stadium'}, {'answer_start': 355, 'text': 'Levi's Stadium in the San Francisco Bay Area at Santa Clara, California.'}]   \n",
       "3                                                                                                           [{'answer_start': 177, 'text': 'Denver Broncos'}, {'answer_start': 177, 'text': 'Denver Broncos'}, {'answer_start': 177, 'text': 'Denver Broncos'}]   \n",
       "4                                                                                                                                         [{'answer_start': 488, 'text': 'gold'}, {'answer_start': 488, 'text': 'gold'}, {'answer_start': 521, 'text': 'gold'}]   \n",
       "...                                                                                                                                                                                                                                                         ...   \n",
       "10565  [{'answer_start': 82, 'text': 'kilogram-force'}, {'answer_start': 4, 'text': 'pound-force'}, {'answer_start': 82, 'text': 'kilogram-force (kgf)'}, {'answer_start': 82, 'text': 'kilogram-force'}, {'answer_start': 78, 'text': 'the kilogram-force ('}]   \n",
       "10566                                   [{'answer_start': 114, 'text': 'kilopond'}, {'answer_start': 114, 'text': 'kilopond'}, {'answer_start': 114, 'text': 'kilopond'}, {'answer_start': 114, 'text': 'kilopond'}, {'answer_start': 114, 'text': 'kilopond'}]   \n",
       "10567                       [{'answer_start': 274, 'text': 'slug'}, {'answer_start': 267, 'text': 'metric slug'}, {'answer_start': 267, 'text': 'metric slug'}, {'answer_start': 267, 'text': 'metric slug'}, {'answer_start': 263, 'text': 'the metric slug'}]   \n",
       "10568                                                            [{'answer_start': 712, 'text': 'kip'}, {'answer_start': 712, 'text': 'kip'}, {'answer_start': 712, 'text': 'kip'}, {'answer_start': 712, 'text': 'kip'}, {'answer_start': 712, 'text': 'kip'}]   \n",
       "10569                                             [{'answer_start': 665, 'text': 'sthène'}, {'answer_start': 665, 'text': 'sthène'}, {'answer_start': 665, 'text': 'sthène'}, {'answer_start': 665, 'text': 'sthène'}, {'answer_start': 665, 'text': 'sthène'}]   \n",
       "\n",
       "       context_id  \n",
       "0               0  \n",
       "1               0  \n",
       "2               0  \n",
       "3               0  \n",
       "4               0  \n",
       "...           ...  \n",
       "10565        2066  \n",
       "10566        2066  \n",
       "10567        2066  \n",
       "10568        2066  \n",
       "10569        2066  \n",
       "\n",
       "[10570 rows x 5 columns]"
      ]
     },
     "execution_count": 13,
     "metadata": {},
     "output_type": "execute_result"
    }
   ],
   "source": [
    "%%time\n",
    "\n",
    "validation_file_path = '../input/stanford-question-answering-dataset/dev-v1.1.json'\n",
    "validation_data = convert_from_json_to_dataframe(validation_file_path)\n",
    "validation_data"
   ]
  },
  {
   "cell_type": "code",
   "execution_count": 14,
   "id": "ef5e09de",
   "metadata": {
    "execution": {
     "iopub.execute_input": "2023-04-28T20:41:13.825150Z",
     "iopub.status.busy": "2023-04-28T20:41:13.824538Z",
     "iopub.status.idle": "2023-04-28T20:41:13.834787Z",
     "shell.execute_reply": "2023-04-28T20:41:13.832602Z"
    },
    "papermill": {
     "duration": 0.027107,
     "end_time": "2023-04-28T20:41:13.838046",
     "exception": false,
     "start_time": "2023-04-28T20:41:13.810939",
     "status": "completed"
    },
    "tags": []
   },
   "outputs": [
    {
     "name": "stdout",
     "output_type": "stream",
     "text": [
      "Number of unique contexts in the validation dataset : 2067\n",
      "CPU times: user 899 µs, sys: 0 ns, total: 899 µs\n",
      "Wall time: 862 µs\n"
     ]
    }
   ],
   "source": [
    "%%time\n",
    "\n",
    "# Exploring the validation dataset a bit more!\n",
    "\n",
    "print ('Number of unique contexts in the validation dataset :', len(validation_data['context_id'].unique()))"
   ]
  },
  {
   "cell_type": "code",
   "execution_count": 15,
   "id": "edc2724c",
   "metadata": {
    "execution": {
     "iopub.execute_input": "2023-04-28T20:41:13.862725Z",
     "iopub.status.busy": "2023-04-28T20:41:13.862228Z",
     "iopub.status.idle": "2023-04-28T20:41:13.910181Z",
     "shell.execute_reply": "2023-04-28T20:41:13.907851Z"
    },
    "papermill": {
     "duration": 0.06409,
     "end_time": "2023-04-28T20:41:13.913509",
     "exception": false,
     "start_time": "2023-04-28T20:41:13.849419",
     "status": "completed"
    },
    "tags": []
   },
   "outputs": [
    {
     "name": "stdout",
     "output_type": "stream",
     "text": [
      "CPU times: user 26.8 ms, sys: 982 µs, total: 27.7 ms\n",
      "Wall time: 27.7 ms\n"
     ]
    },
    {
     "data": {
      "text/html": [
       "<div>\n",
       "<style scoped>\n",
       "    .dataframe tbody tr th:only-of-type {\n",
       "        vertical-align: middle;\n",
       "    }\n",
       "\n",
       "    .dataframe tbody tr th {\n",
       "        vertical-align: top;\n",
       "    }\n",
       "\n",
       "    .dataframe thead th {\n",
       "        text-align: right;\n",
       "    }\n",
       "</style>\n",
       "<table border=\"1\" class=\"dataframe\">\n",
       "  <thead>\n",
       "    <tr style=\"text-align: right;\">\n",
       "      <th></th>\n",
       "      <th>context</th>\n",
       "      <th>context_id</th>\n",
       "    </tr>\n",
       "  </thead>\n",
       "  <tbody>\n",
       "    <tr>\n",
       "      <th>0</th>\n",
       "      <td>Super Bowl 50 was an American football game to determine the champion of the National Football League (NFL) for the 2015 season. The American Football Conference (AFC) champion Denver Broncos defeated the National Football Conference (NFC) champion Carolina Panthers 24–10 to earn their third Super Bowl title. The game was played on February 7, 2016, at Levi's Stadium in the San Francisco Bay Area at Santa Clara, California. As this was the 50th Super Bowl, the league emphasized the \"golden anniversary\" with various gold-themed initiatives, as well as temporarily suspending the tradition of naming each Super Bowl game with Roman numerals (under which the game would have been known as \"Super Bowl L\"), so that the logo could prominently feature the Arabic numerals 50.</td>\n",
       "      <td>0</td>\n",
       "    </tr>\n",
       "    <tr>\n",
       "      <th>1</th>\n",
       "      <td>The Panthers finished the regular season with a 15–1 record, and quarterback Cam Newton was named the NFL Most Valuable Player (MVP). They defeated the Arizona Cardinals 49–15 in the NFC Championship Game and advanced to their second Super Bowl appearance since the franchise was founded in 1995. The Broncos finished the regular season with a 12–4 record, and denied the New England Patriots a chance to defend their title from Super Bowl XLIX by defeating them 20–18 in the AFC Championship Game. They joined the Patriots, Dallas Cowboys, and Pittsburgh Steelers as one of four teams that have made eight appearances in the Super Bowl.</td>\n",
       "      <td>1</td>\n",
       "    </tr>\n",
       "    <tr>\n",
       "      <th>2</th>\n",
       "      <td>The Broncos took an early lead in Super Bowl 50 and never trailed. Newton was limited by Denver's defense, which sacked him seven times and forced him into three turnovers, including a fumble which they recovered for a touchdown. Denver linebacker Von Miller was named Super Bowl MVP, recording five solo tackles, 2½ sacks, and two forced fumbles.</td>\n",
       "      <td>2</td>\n",
       "    </tr>\n",
       "    <tr>\n",
       "      <th>3</th>\n",
       "      <td>CBS broadcast Super Bowl 50 in the U.S., and charged an average of $5 million for a 30-second commercial during the game. The Super Bowl 50 halftime show was headlined by the British rock group Coldplay with special guest performers Beyoncé and Bruno Mars, who headlined the Super Bowl XLVII and Super Bowl XLVIII halftime shows, respectively. It was the third-most watched U.S. broadcast ever.</td>\n",
       "      <td>3</td>\n",
       "    </tr>\n",
       "    <tr>\n",
       "      <th>4</th>\n",
       "      <td>In early 2012, NFL Commissioner Roger Goodell stated that the league planned to make the 50th Super Bowl \"spectacular\" and that it would be \"an important game for us as a league\".</td>\n",
       "      <td>4</td>\n",
       "    </tr>\n",
       "    <tr>\n",
       "      <th>...</th>\n",
       "      <td>...</td>\n",
       "      <td>...</td>\n",
       "    </tr>\n",
       "    <tr>\n",
       "      <th>2062</th>\n",
       "      <td>where  is the mass of the object,  is the velocity of the object and  is the distance to the center of the circular path and  is the unit vector pointing in the radial direction outwards from the center. This means that the unbalanced centripetal force felt by any object is always directed toward the center of the curving path. Such forces act perpendicular to the velocity vector associated with the motion of an object, and therefore do not change the speed of the object (magnitude of the velocity), but only the direction of the velocity vector. The unbalanced force that accelerates an object can be resolved into a component that is perpendicular to the path, and one that is tangential to the path. This yields both the tangential force, which accelerates the object by either slowing it down or speeding it up, and the radial (centripetal) force, which changes its direction.</td>\n",
       "      <td>2062</td>\n",
       "    </tr>\n",
       "    <tr>\n",
       "      <th>2063</th>\n",
       "      <td>A conservative force that acts on a closed system has an associated mechanical work that allows energy to convert only between kinetic or potential forms. This means that for a closed system, the net mechanical energy is conserved whenever a conservative force acts on the system. The force, therefore, is related directly to the difference in potential energy between two different locations in space, and can be considered to be an artifact of the potential field in the same way that the direction and amount of a flow of water can be considered to be an artifact of the contour map of the elevation of an area.</td>\n",
       "      <td>2063</td>\n",
       "    </tr>\n",
       "    <tr>\n",
       "      <th>2064</th>\n",
       "      <td>For certain physical scenarios, it is impossible to model forces as being due to gradient of potentials. This is often due to macrophysical considerations that yield forces as arising from a macroscopic statistical average of microstates. For example, friction is caused by the gradients of numerous electrostatic potentials between the atoms, but manifests as a force model that is independent of any macroscale position vector. Nonconservative forces other than friction include other contact forces, tension, compression, and drag. However, for any sufficiently detailed description, all these forces are the results of conservative ones since each of these macroscopic forces are the net results of the gradients of microscopic potentials.</td>\n",
       "      <td>2064</td>\n",
       "    </tr>\n",
       "    <tr>\n",
       "      <th>2065</th>\n",
       "      <td>The connection between macroscopic nonconservative forces and microscopic conservative forces is described by detailed treatment with statistical mechanics. In macroscopic closed systems, nonconservative forces act to change the internal energies of the system, and are often associated with the transfer of heat. According to the Second law of thermodynamics, nonconservative forces necessarily result in energy transformations within closed systems from ordered to more random conditions as entropy increases.</td>\n",
       "      <td>2065</td>\n",
       "    </tr>\n",
       "    <tr>\n",
       "      <th>2066</th>\n",
       "      <td>The pound-force has a metric counterpart, less commonly used than the newton: the kilogram-force (kgf) (sometimes kilopond), is the force exerted by standard gravity on one kilogram of mass. The kilogram-force leads to an alternate, but rarely used unit of mass: the metric slug (sometimes mug or hyl) is that mass that accelerates at 1 m·s−2 when subjected to a force of 1 kgf. The kilogram-force is not a part of the modern SI system, and is generally deprecated; however it still sees use for some purposes as expressing aircraft weight, jet thrust, bicycle spoke tension, torque wrench settings and engine output torque. Other arcane units of force include the sthène, which is equivalent to 1000 N, and the kip, which is equivalent to 1000 lbf.</td>\n",
       "      <td>2066</td>\n",
       "    </tr>\n",
       "  </tbody>\n",
       "</table>\n",
       "<p>2067 rows × 2 columns</p>\n",
       "</div>"
      ],
      "text/plain": [
       "                                                                                                                                                                                                                                                                                                                                                                                                                                                                                                                                                                                                                                                                                                                                                                                                                                                                                                                    context  \\\n",
       "0                                                                                                                   Super Bowl 50 was an American football game to determine the champion of the National Football League (NFL) for the 2015 season. The American Football Conference (AFC) champion Denver Broncos defeated the National Football Conference (NFC) champion Carolina Panthers 24–10 to earn their third Super Bowl title. The game was played on February 7, 2016, at Levi's Stadium in the San Francisco Bay Area at Santa Clara, California. As this was the 50th Super Bowl, the league emphasized the \"golden anniversary\" with various gold-themed initiatives, as well as temporarily suspending the tradition of naming each Super Bowl game with Roman numerals (under which the game would have been known as \"Super Bowl L\"), so that the logo could prominently feature the Arabic numerals 50.   \n",
       "1                                                                                                                                                                                                                                                             The Panthers finished the regular season with a 15–1 record, and quarterback Cam Newton was named the NFL Most Valuable Player (MVP). They defeated the Arizona Cardinals 49–15 in the NFC Championship Game and advanced to their second Super Bowl appearance since the franchise was founded in 1995. The Broncos finished the regular season with a 12–4 record, and denied the New England Patriots a chance to defend their title from Super Bowl XLIX by defeating them 20–18 in the AFC Championship Game. They joined the Patriots, Dallas Cowboys, and Pittsburgh Steelers as one of four teams that have made eight appearances in the Super Bowl.   \n",
       "2                                                                                                                                                                                                                                                                                                                                                                                                                                                                                                                                                               The Broncos took an early lead in Super Bowl 50 and never trailed. Newton was limited by Denver's defense, which sacked him seven times and forced him into three turnovers, including a fumble which they recovered for a touchdown. Denver linebacker Von Miller was named Super Bowl MVP, recording five solo tackles, 2½ sacks, and two forced fumbles.   \n",
       "3                                                                                                                                                                                                                                                                                                                                                                                                                                                                                                                CBS broadcast Super Bowl 50 in the U.S., and charged an average of $5 million for a 30-second commercial during the game. The Super Bowl 50 halftime show was headlined by the British rock group Coldplay with special guest performers Beyoncé and Bruno Mars, who headlined the Super Bowl XLVII and Super Bowl XLVIII halftime shows, respectively. It was the third-most watched U.S. broadcast ever.   \n",
       "4                                                                                                                                                                                                                                                                                                                                                                                                                                                                                                                                                                                                                                                                                                                                       In early 2012, NFL Commissioner Roger Goodell stated that the league planned to make the 50th Super Bowl \"spectacular\" and that it would be \"an important game for us as a league\".   \n",
       "...                                                                                                                                                                                                                                                                                                                                                                                                                                                                                                                                                                                                                                                                                                                                                                                                                                                                                                                     ...   \n",
       "2062  where  is the mass of the object,  is the velocity of the object and  is the distance to the center of the circular path and  is the unit vector pointing in the radial direction outwards from the center. This means that the unbalanced centripetal force felt by any object is always directed toward the center of the curving path. Such forces act perpendicular to the velocity vector associated with the motion of an object, and therefore do not change the speed of the object (magnitude of the velocity), but only the direction of the velocity vector. The unbalanced force that accelerates an object can be resolved into a component that is perpendicular to the path, and one that is tangential to the path. This yields both the tangential force, which accelerates the object by either slowing it down or speeding it up, and the radial (centripetal) force, which changes its direction.   \n",
       "2063                                                                                                                                                                                                                                                                                 A conservative force that acts on a closed system has an associated mechanical work that allows energy to convert only between kinetic or potential forms. This means that for a closed system, the net mechanical energy is conserved whenever a conservative force acts on the system. The force, therefore, is related directly to the difference in potential energy between two different locations in space, and can be considered to be an artifact of the potential field in the same way that the direction and amount of a flow of water can be considered to be an artifact of the contour map of the elevation of an area.   \n",
       "2064                                                                                                                                                For certain physical scenarios, it is impossible to model forces as being due to gradient of potentials. This is often due to macrophysical considerations that yield forces as arising from a macroscopic statistical average of microstates. For example, friction is caused by the gradients of numerous electrostatic potentials between the atoms, but manifests as a force model that is independent of any macroscale position vector. Nonconservative forces other than friction include other contact forces, tension, compression, and drag. However, for any sufficiently detailed description, all these forces are the results of conservative ones since each of these macroscopic forces are the net results of the gradients of microscopic potentials.   \n",
       "2065                                                                                                                                                                                                                                                                                                                                                                                        The connection between macroscopic nonconservative forces and microscopic conservative forces is described by detailed treatment with statistical mechanics. In macroscopic closed systems, nonconservative forces act to change the internal energies of the system, and are often associated with the transfer of heat. According to the Second law of thermodynamics, nonconservative forces necessarily result in energy transformations within closed systems from ordered to more random conditions as entropy increases.   \n",
       "2066                                                                                                                                          The pound-force has a metric counterpart, less commonly used than the newton: the kilogram-force (kgf) (sometimes kilopond), is the force exerted by standard gravity on one kilogram of mass. The kilogram-force leads to an alternate, but rarely used unit of mass: the metric slug (sometimes mug or hyl) is that mass that accelerates at 1 m·s−2 when subjected to a force of 1 kgf. The kilogram-force is not a part of the modern SI system, and is generally deprecated; however it still sees use for some purposes as expressing aircraft weight, jet thrust, bicycle spoke tension, torque wrench settings and engine output torque. Other arcane units of force include the sthène, which is equivalent to 1000 N, and the kip, which is equivalent to 1000 lbf.   \n",
       "\n",
       "      context_id  \n",
       "0              0  \n",
       "1              1  \n",
       "2              2  \n",
       "3              3  \n",
       "4              4  \n",
       "...          ...  \n",
       "2062        2062  \n",
       "2063        2063  \n",
       "2064        2064  \n",
       "2065        2065  \n",
       "2066        2066  \n",
       "\n",
       "[2067 rows x 2 columns]"
      ]
     },
     "execution_count": 15,
     "metadata": {},
     "output_type": "execute_result"
    }
   ],
   "source": [
    "%%time\n",
    "\n",
    "# Getting unique documents from the validation dataset\n",
    "\n",
    "validation_unique_documents = validation_data[['context', 'context_id']].drop_duplicates().reset_index(drop=True)\n",
    "validation_unique_documents"
   ]
  },
  {
   "cell_type": "code",
   "execution_count": 16,
   "id": "c3c9ad48",
   "metadata": {
    "execution": {
     "iopub.execute_input": "2023-04-28T20:41:13.940218Z",
     "iopub.status.busy": "2023-04-28T20:41:13.939729Z",
     "iopub.status.idle": "2023-04-28T20:41:16.153535Z",
     "shell.execute_reply": "2023-04-28T20:41:16.151130Z"
    },
    "papermill": {
     "duration": 2.232702,
     "end_time": "2023-04-28T20:41:16.158252",
     "exception": false,
     "start_time": "2023-04-28T20:41:13.925550",
     "status": "completed"
    },
    "tags": []
   },
   "outputs": [
    {
     "name": "stdout",
     "output_type": "stream",
     "text": [
      "CPU times: user 2.17 s, sys: 21.5 ms, total: 2.19 s\n",
      "Wall time: 2.2 s\n"
     ]
    }
   ],
   "source": [
    "%%time\n",
    "\n",
    "# Creating a corpus of tokens\n",
    "\n",
    "validation_corpus = validation_unique_documents['context'].tolist()\n",
    "validation_corpus = [preprocess_string(t) for t in validation_corpus]"
   ]
  },
  {
   "cell_type": "code",
   "execution_count": 17,
   "id": "29e1f6ae",
   "metadata": {
    "execution": {
     "iopub.execute_input": "2023-04-28T20:41:16.185438Z",
     "iopub.status.busy": "2023-04-28T20:41:16.185001Z",
     "iopub.status.idle": "2023-04-28T20:41:19.623774Z",
     "shell.execute_reply": "2023-04-28T20:41:19.622241Z"
    },
    "papermill": {
     "duration": 3.456956,
     "end_time": "2023-04-28T20:41:19.627030",
     "exception": false,
     "start_time": "2023-04-28T20:41:16.170074",
     "status": "completed"
    },
    "tags": []
   },
   "outputs": [
    {
     "name": "stdout",
     "output_type": "stream",
     "text": [
      "CPU times: user 10.8 s, sys: 85.2 ms, total: 10.9 s\n",
      "Wall time: 3.43 s\n"
     ]
    }
   ],
   "source": [
    "%%time\n",
    "\n",
    "# Defining the Word2Vec model\n",
    "\n",
    "vectorizer = Word2Vec(sentences=validation_corpus, vector_size=300, window=5, min_count=10, workers=4, epochs=20).wv"
   ]
  },
  {
   "cell_type": "code",
   "execution_count": 18,
   "id": "1dd0f70a",
   "metadata": {
    "execution": {
     "iopub.execute_input": "2023-04-28T20:41:19.652624Z",
     "iopub.status.busy": "2023-04-28T20:41:19.651579Z",
     "iopub.status.idle": "2023-04-28T20:41:19.671011Z",
     "shell.execute_reply": "2023-04-28T20:41:19.667986Z"
    },
    "papermill": {
     "duration": 0.042486,
     "end_time": "2023-04-28T20:41:19.681574",
     "exception": false,
     "start_time": "2023-04-28T20:41:19.639088",
     "status": "completed"
    },
    "tags": []
   },
   "outputs": [
    {
     "name": "stdout",
     "output_type": "stream",
     "text": [
      "CPU times: user 2.18 ms, sys: 1.86 ms, total: 4.05 ms\n",
      "Wall time: 2.26 ms\n"
     ]
    },
    {
     "data": {
      "text/plain": [
       "[('southeast', 0.9052872657775879),\n",
       " ('tradition', 0.8859097361564636),\n",
       " ('denmark', 0.8834764361381531),\n",
       " ('commonwealth', 0.8831672668457031),\n",
       " ('destin', 0.8796497583389282)]"
      ]
     },
     "execution_count": 18,
     "metadata": {},
     "output_type": "execute_result"
    }
   ],
   "source": [
    "%%time\n",
    "\n",
    "# Getting the 5 most similar words to a sample word\n",
    "\n",
    "vectorizer.most_similar('tourist', topn=5)"
   ]
  },
  {
   "cell_type": "code",
   "execution_count": 19,
   "id": "5f01fc87",
   "metadata": {
    "execution": {
     "iopub.execute_input": "2023-04-28T20:41:19.748709Z",
     "iopub.status.busy": "2023-04-28T20:41:19.746323Z",
     "iopub.status.idle": "2023-04-28T20:41:19.769139Z",
     "shell.execute_reply": "2023-04-28T20:41:19.766116Z"
    },
    "papermill": {
     "duration": 0.066848,
     "end_time": "2023-04-28T20:41:19.780135",
     "exception": false,
     "start_time": "2023-04-28T20:41:19.713287",
     "status": "completed"
    },
    "tags": []
   },
   "outputs": [
    {
     "name": "stdout",
     "output_type": "stream",
     "text": [
      "Text : What are the tourist spots in Spain?\n",
      "Vector : ['tourist', 'spain']\n",
      "CPU times: user 4.22 ms, sys: 1.89 ms, total: 6.12 ms\n",
      "Wall time: 1.56 ms\n"
     ]
    }
   ],
   "source": [
    "%%time\n",
    "\n",
    "# Text Transformation\n",
    "\n",
    "question = 'What are the tourist spots in Spain?'    \n",
    "text_transformation(vectorizer, question, True)"
   ]
  },
  {
   "cell_type": "code",
   "execution_count": 20,
   "id": "a6903499",
   "metadata": {
    "execution": {
     "iopub.execute_input": "2023-04-28T20:41:19.803855Z",
     "iopub.status.busy": "2023-04-28T20:41:19.803360Z",
     "iopub.status.idle": "2023-04-28T20:41:22.634270Z",
     "shell.execute_reply": "2023-04-28T20:41:22.632625Z"
    },
    "papermill": {
     "duration": 2.846646,
     "end_time": "2023-04-28T20:41:22.637813",
     "exception": false,
     "start_time": "2023-04-28T20:41:19.791167",
     "status": "completed"
    },
    "tags": []
   },
   "outputs": [
    {
     "name": "stdout",
     "output_type": "stream",
     "text": [
      "CPU times: user 2.8 s, sys: 4.01 ms, total: 2.81 s\n",
      "Wall time: 2.82 s\n"
     ]
    },
    {
     "data": {
      "text/plain": [
       "NearestNeighbors(metric='cosine', n_neighbors=1)"
      ]
     },
     "execution_count": 20,
     "metadata": {},
     "output_type": "execute_result"
    }
   ],
   "source": [
    "%%time\n",
    "\n",
    "# Training the model\n",
    "\n",
    "retriever_configs = {'n_neighbors' : 1, 'metric' : 'cosine'}\n",
    "retriever = NearestNeighbors(**retriever_configs)\n",
    "X_validation = validation_unique_documents['context'].apply(lambda x : text_transformation(vectorizer, x, False)).tolist()\n",
    "retriever.fit(X_validation, validation_unique_documents['context_id'])"
   ]
  },
  {
   "cell_type": "code",
   "execution_count": 21,
   "id": "3f027e94",
   "metadata": {
    "execution": {
     "iopub.execute_input": "2023-04-28T20:41:22.664431Z",
     "iopub.status.busy": "2023-04-28T20:41:22.663903Z",
     "iopub.status.idle": "2023-04-28T20:41:24.717459Z",
     "shell.execute_reply": "2023-04-28T20:41:24.715865Z"
    },
    "papermill": {
     "duration": 2.072312,
     "end_time": "2023-04-28T20:41:24.721674",
     "exception": false,
     "start_time": "2023-04-28T20:41:22.649362",
     "status": "completed"
    },
    "tags": []
   },
   "outputs": [
    {
     "name": "stdout",
     "output_type": "stream",
     "text": [
      "CPU times: user 2.41 s, sys: 362 ms, total: 2.78 s\n",
      "Wall time: 2.05 s\n"
     ]
    }
   ],
   "source": [
    "%%time\n",
    "\n",
    "# Evaluating the above model\n",
    "\n",
    "X_validation = validation_data['question'].apply(lambda x : text_transformation(vectorizer, x, False)).tolist()\n",
    "\n",
    "# predict one document for each question\n",
    "y_test = validation_data['context_id']\n",
    "y_pred = retriever.kneighbors(X_validation, return_distance=False)"
   ]
  },
  {
   "cell_type": "code",
   "execution_count": 22,
   "id": "738b9be8",
   "metadata": {
    "execution": {
     "iopub.execute_input": "2023-04-28T20:41:24.753136Z",
     "iopub.status.busy": "2023-04-28T20:41:24.751188Z",
     "iopub.status.idle": "2023-04-28T20:41:24.856047Z",
     "shell.execute_reply": "2023-04-28T20:41:24.854328Z"
    },
    "papermill": {
     "duration": 0.125438,
     "end_time": "2023-04-28T20:41:24.860510",
     "exception": false,
     "start_time": "2023-04-28T20:41:24.735072",
     "status": "completed"
    },
    "tags": []
   },
   "outputs": [
    {
     "name": "stdout",
     "output_type": "stream",
     "text": [
      "Accuracy: 0.1376\n",
      "CPU times: user 91.6 ms, sys: 5 µs, total: 91.6 ms\n",
      "Wall time: 92 ms\n"
     ]
    }
   ],
   "source": [
    "%%time\n",
    "\n",
    "# Testing the model upon the validation set\n",
    "\n",
    "acc = compute_accuracy(y_test, y_pred)\n",
    "print('Accuracy:', f'{acc:.4f}')"
   ]
  },
  {
   "cell_type": "code",
   "execution_count": null,
   "id": "5e9a39be",
   "metadata": {
    "papermill": {
     "duration": 0.01259,
     "end_time": "2023-04-28T20:41:24.886560",
     "exception": false,
     "start_time": "2023-04-28T20:41:24.873970",
     "status": "completed"
    },
    "tags": []
   },
   "outputs": [],
   "source": []
  }
 ],
 "metadata": {
  "kernelspec": {
   "display_name": "Python 3",
   "language": "python",
   "name": "python3"
  },
  "language_info": {
   "codemirror_mode": {
    "name": "ipython",
    "version": 3
   },
   "file_extension": ".py",
   "mimetype": "text/x-python",
   "name": "python",
   "nbconvert_exporter": "python",
   "pygments_lexer": "ipython3",
   "version": "3.7.12"
  },
  "papermill": {
   "default_parameters": {},
   "duration": 173.626466,
   "end_time": "2023-04-28T20:41:26.631337",
   "environment_variables": {},
   "exception": null,
   "input_path": "__notebook__.ipynb",
   "output_path": "__notebook__.ipynb",
   "parameters": {},
   "start_time": "2023-04-28T20:38:33.004871",
   "version": "2.4.0"
  }
 },
 "nbformat": 4,
 "nbformat_minor": 5
}
